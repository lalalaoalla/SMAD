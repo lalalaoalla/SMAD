{
 "cells": [
  {
   "cell_type": "markdown",
   "metadata": {},
   "source": [
    "# В соответствии с вариантом задания сгенерировать экспериментальные данные, в которых в явном виде присутствует эффект мультиколлинеарности.\n",
    "# Регрессия на 8 факторах. Эффект мультиколлинеарности создают две пары факторов. Имеется разброс в масштабах факторов.\n",
    "\n",
    "# x1 = x2 + x8\n",
    "\n",
    "# Так же разброс факторов:\n",
    "\n",
    "# x1 [-4; 4]\n",
    "\n",
    "# x2 [-3.5; 3.5]\n",
    "\n",
    "# x3 [-3; 3]\n",
    "\n",
    "# x4 [-2.5; 2.5]\n",
    "\n",
    "# x5 [-2; 2]\n",
    "\n",
    "# x6 [-1.5; 1.5]\n",
    "\n",
    "# x7 [-1; 1]\n",
    "\n",
    "# x8 [-0.5; 0.5]"
   ]
  },
  {
   "cell_type": "code",
   "execution_count": 1,
   "metadata": {},
   "outputs": [],
   "source": [
    "import numpy as np\n",
    "import scipy.stats as sps\n",
    "import pandas as pd\n",
    "from sklearn.metrics.pairwise import cosine_similarity\n",
    "import matplotlib.pyplot as plt"
   ]
  },
  {
   "cell_type": "markdown",
   "metadata": {},
   "source": [
    "Теперь задаём кол-во экспериментов и кол-во фактор + значение параметров в модели"
   ]
  },
  {
   "cell_type": "code",
   "execution_count": 2,
   "metadata": {},
   "outputs": [],
   "source": [
    "n = 300 # Кол-во экспериментов\n",
    "m = 8 # Кол-во факторов\n",
    "teta = np.ones((m+1,1)) # +1 свободный член"
   ]
  },
  {
   "cell_type": "markdown",
   "metadata": {},
   "source": [
    "Сама наша модель"
   ]
  },
  {
   "cell_type": "code",
   "execution_count": 3,
   "metadata": {},
   "outputs": [],
   "source": [
    "def calc_u(x, teta):\n",
    " return x @ teta"
   ]
  },
  {
   "cell_type": "markdown",
   "metadata": {},
   "source": [
    "Генерация массива признаков"
   ]
  },
  {
   "cell_type": "code",
   "execution_count": 4,
   "metadata": {},
   "outputs": [],
   "source": [
    "x2 = np.random.uniform(-3.5, 3.5, n)\n",
    "x3 = np.random.uniform(-3, 3, n)\n",
    "x4 = np.random.uniform(-2.5, 2.5, n)\n",
    "x5 = np.random.uniform(-2, 2, n)\n",
    "x6 = np.random.uniform(-1.5, 1.5, n)\n",
    "x7 = np.random.uniform(-1, 1, n)\n",
    "x8 = np.random.uniform(-0.5, 0.5, n)\n",
    "\n",
    "e_milty = np.random.normal(0, 0.1, n) #Что бы не было точной линеной зависимости добавляю ошибку\n",
    "x1 = x2 + x8  + e_milty# Линейная зависимость от 2ух параметров\n",
    "\n",
    "x0 = np.ones(n) # Свободный член\n",
    "x = pd.DataFrame({'C' : x0,\n",
    "                  'x1': x1,\n",
    "                  'x2': x2,\n",
    "                  'x3': x3,\n",
    "                  'x4': x4,\n",
    "                  'x5': x5,\n",
    "                  'x6': x6,\n",
    "                  'x7': x7,\n",
    "                  'x8': x8})\n",
    "df = x.copy()\n"
   ]
  },
  {
   "cell_type": "markdown",
   "metadata": {},
   "source": [
    "Генерация значения сигнала"
   ]
  },
  {
   "cell_type": "code",
   "execution_count": 5,
   "metadata": {},
   "outputs": [
    {
     "data": {
      "text/plain": [
       "0      4.800731\n",
       "1     -8.515474\n",
       "2      8.400764\n",
       "3      8.802570\n",
       "4     -3.518128\n",
       "         ...   \n",
       "295   -5.063626\n",
       "296   -3.198618\n",
       "297   -0.301919\n",
       "298   -1.551219\n",
       "299    2.273839\n",
       "Name: u, Length: 300, dtype: float64"
      ]
     },
     "execution_count": 5,
     "metadata": {},
     "output_type": "execute_result"
    }
   ],
   "source": [
    "u = calc_u(x, teta)\n",
    "df['u'] = u\n",
    "df['u']"
   ]
  },
  {
   "cell_type": "markdown",
   "metadata": {},
   "source": [
    "Генерация значения отклика модели"
   ]
  },
  {
   "cell_type": "code",
   "execution_count": 6,
   "metadata": {},
   "outputs": [
    {
     "data": {
      "text/html": [
       "<div>\n",
       "<style scoped>\n",
       "    .dataframe tbody tr th:only-of-type {\n",
       "        vertical-align: middle;\n",
       "    }\n",
       "\n",
       "    .dataframe tbody tr th {\n",
       "        vertical-align: top;\n",
       "    }\n",
       "\n",
       "    .dataframe thead th {\n",
       "        text-align: right;\n",
       "    }\n",
       "</style>\n",
       "<table border=\"1\" class=\"dataframe\">\n",
       "  <thead>\n",
       "    <tr style=\"text-align: right;\">\n",
       "      <th></th>\n",
       "      <th>C</th>\n",
       "      <th>x1</th>\n",
       "      <th>x2</th>\n",
       "      <th>x3</th>\n",
       "      <th>x4</th>\n",
       "      <th>x5</th>\n",
       "      <th>x6</th>\n",
       "      <th>x7</th>\n",
       "      <th>x8</th>\n",
       "      <th>u</th>\n",
       "      <th>y</th>\n",
       "    </tr>\n",
       "  </thead>\n",
       "  <tbody>\n",
       "    <tr>\n",
       "      <th>0</th>\n",
       "      <td>1.0</td>\n",
       "      <td>-0.587017</td>\n",
       "      <td>-0.404738</td>\n",
       "      <td>2.825136</td>\n",
       "      <td>0.666209</td>\n",
       "      <td>1.431949</td>\n",
       "      <td>-0.014524</td>\n",
       "      <td>-0.030663</td>\n",
       "      <td>-0.085623</td>\n",
       "      <td>4.800731</td>\n",
       "      <td>4.004194</td>\n",
       "    </tr>\n",
       "    <tr>\n",
       "      <th>1</th>\n",
       "      <td>1.0</td>\n",
       "      <td>-2.156394</td>\n",
       "      <td>-1.887345</td>\n",
       "      <td>-2.892198</td>\n",
       "      <td>-1.758673</td>\n",
       "      <td>-1.854320</td>\n",
       "      <td>0.664674</td>\n",
       "      <td>0.625320</td>\n",
       "      <td>-0.256537</td>\n",
       "      <td>-8.515474</td>\n",
       "      <td>-8.412420</td>\n",
       "    </tr>\n",
       "    <tr>\n",
       "      <th>2</th>\n",
       "      <td>1.0</td>\n",
       "      <td>3.267975</td>\n",
       "      <td>3.176515</td>\n",
       "      <td>-2.234389</td>\n",
       "      <td>1.324666</td>\n",
       "      <td>1.118663</td>\n",
       "      <td>-0.341213</td>\n",
       "      <td>0.749000</td>\n",
       "      <td>0.339547</td>\n",
       "      <td>8.400764</td>\n",
       "      <td>9.043539</td>\n",
       "    </tr>\n",
       "    <tr>\n",
       "      <th>3</th>\n",
       "      <td>1.0</td>\n",
       "      <td>3.264206</td>\n",
       "      <td>2.806457</td>\n",
       "      <td>-0.052035</td>\n",
       "      <td>0.261475</td>\n",
       "      <td>-0.489141</td>\n",
       "      <td>0.681875</td>\n",
       "      <td>0.991096</td>\n",
       "      <td>0.338636</td>\n",
       "      <td>8.802570</td>\n",
       "      <td>10.346031</td>\n",
       "    </tr>\n",
       "    <tr>\n",
       "      <th>4</th>\n",
       "      <td>1.0</td>\n",
       "      <td>-1.206642</td>\n",
       "      <td>-0.629845</td>\n",
       "      <td>-0.767768</td>\n",
       "      <td>1.435810</td>\n",
       "      <td>-0.480605</td>\n",
       "      <td>-1.491637</td>\n",
       "      <td>-0.892766</td>\n",
       "      <td>-0.484676</td>\n",
       "      <td>-3.518128</td>\n",
       "      <td>-3.277878</td>\n",
       "    </tr>\n",
       "    <tr>\n",
       "      <th>...</th>\n",
       "      <td>...</td>\n",
       "      <td>...</td>\n",
       "      <td>...</td>\n",
       "      <td>...</td>\n",
       "      <td>...</td>\n",
       "      <td>...</td>\n",
       "      <td>...</td>\n",
       "      <td>...</td>\n",
       "      <td>...</td>\n",
       "      <td>...</td>\n",
       "      <td>...</td>\n",
       "    </tr>\n",
       "    <tr>\n",
       "      <th>295</th>\n",
       "      <td>1.0</td>\n",
       "      <td>-2.861437</td>\n",
       "      <td>-2.930093</td>\n",
       "      <td>2.719643</td>\n",
       "      <td>-0.489678</td>\n",
       "      <td>-0.987496</td>\n",
       "      <td>-0.884416</td>\n",
       "      <td>-0.593036</td>\n",
       "      <td>-0.037115</td>\n",
       "      <td>-5.063626</td>\n",
       "      <td>-4.211234</td>\n",
       "    </tr>\n",
       "    <tr>\n",
       "      <th>296</th>\n",
       "      <td>1.0</td>\n",
       "      <td>-1.059412</td>\n",
       "      <td>-1.452059</td>\n",
       "      <td>0.319249</td>\n",
       "      <td>-2.189048</td>\n",
       "      <td>0.006623</td>\n",
       "      <td>-1.016089</td>\n",
       "      <td>0.829008</td>\n",
       "      <td>0.363110</td>\n",
       "      <td>-3.198618</td>\n",
       "      <td>-3.933442</td>\n",
       "    </tr>\n",
       "    <tr>\n",
       "      <th>297</th>\n",
       "      <td>1.0</td>\n",
       "      <td>-1.807383</td>\n",
       "      <td>-2.021731</td>\n",
       "      <td>1.674402</td>\n",
       "      <td>0.130549</td>\n",
       "      <td>-1.030121</td>\n",
       "      <td>0.626971</td>\n",
       "      <td>0.892761</td>\n",
       "      <td>0.232633</td>\n",
       "      <td>-0.301919</td>\n",
       "      <td>-0.162112</td>\n",
       "    </tr>\n",
       "    <tr>\n",
       "      <th>298</th>\n",
       "      <td>1.0</td>\n",
       "      <td>-0.285390</td>\n",
       "      <td>-0.473973</td>\n",
       "      <td>0.090984</td>\n",
       "      <td>-0.186206</td>\n",
       "      <td>-1.343529</td>\n",
       "      <td>0.558759</td>\n",
       "      <td>-0.881297</td>\n",
       "      <td>-0.030568</td>\n",
       "      <td>-1.551219</td>\n",
       "      <td>1.614023</td>\n",
       "    </tr>\n",
       "    <tr>\n",
       "      <th>299</th>\n",
       "      <td>1.0</td>\n",
       "      <td>2.323849</td>\n",
       "      <td>2.548841</td>\n",
       "      <td>-1.709005</td>\n",
       "      <td>-1.119837</td>\n",
       "      <td>0.550811</td>\n",
       "      <td>-1.202636</td>\n",
       "      <td>0.096520</td>\n",
       "      <td>-0.214704</td>\n",
       "      <td>2.273839</td>\n",
       "      <td>3.121503</td>\n",
       "    </tr>\n",
       "  </tbody>\n",
       "</table>\n",
       "<p>300 rows × 11 columns</p>\n",
       "</div>"
      ],
      "text/plain": [
       "       C        x1        x2        x3        x4        x5        x6  \\\n",
       "0    1.0 -0.587017 -0.404738  2.825136  0.666209  1.431949 -0.014524   \n",
       "1    1.0 -2.156394 -1.887345 -2.892198 -1.758673 -1.854320  0.664674   \n",
       "2    1.0  3.267975  3.176515 -2.234389  1.324666  1.118663 -0.341213   \n",
       "3    1.0  3.264206  2.806457 -0.052035  0.261475 -0.489141  0.681875   \n",
       "4    1.0 -1.206642 -0.629845 -0.767768  1.435810 -0.480605 -1.491637   \n",
       "..   ...       ...       ...       ...       ...       ...       ...   \n",
       "295  1.0 -2.861437 -2.930093  2.719643 -0.489678 -0.987496 -0.884416   \n",
       "296  1.0 -1.059412 -1.452059  0.319249 -2.189048  0.006623 -1.016089   \n",
       "297  1.0 -1.807383 -2.021731  1.674402  0.130549 -1.030121  0.626971   \n",
       "298  1.0 -0.285390 -0.473973  0.090984 -0.186206 -1.343529  0.558759   \n",
       "299  1.0  2.323849  2.548841 -1.709005 -1.119837  0.550811 -1.202636   \n",
       "\n",
       "           x7        x8         u          y  \n",
       "0   -0.030663 -0.085623  4.800731   4.004194  \n",
       "1    0.625320 -0.256537 -8.515474  -8.412420  \n",
       "2    0.749000  0.339547  8.400764   9.043539  \n",
       "3    0.991096  0.338636  8.802570  10.346031  \n",
       "4   -0.892766 -0.484676 -3.518128  -3.277878  \n",
       "..        ...       ...       ...        ...  \n",
       "295 -0.593036 -0.037115 -5.063626  -4.211234  \n",
       "296  0.829008  0.363110 -3.198618  -3.933442  \n",
       "297  0.892761  0.232633 -0.301919  -0.162112  \n",
       "298 -0.881297 -0.030568 -1.551219   1.614023  \n",
       "299  0.096520 -0.214704  2.273839   3.121503  \n",
       "\n",
       "[300 rows x 11 columns]"
      ]
     },
     "execution_count": 6,
     "metadata": {},
     "output_type": "execute_result"
    }
   ],
   "source": [
    "p = 0.05 # мощность сигнала\n",
    "u_avr = u.sum() / n\n",
    "w_sq = ((u - u_avr).T @ (u - u_avr) / (n-1))[0][0]\n",
    "d = w_sq * p\n",
    "e = np.random.normal(0, d, (1, n)).T\n",
    "y = u + e\n",
    "df['y'] = y\n",
    "df"
   ]
  },
  {
   "cell_type": "markdown",
   "metadata": {},
   "source": [
    "# Рассчитать ряд показателей, характеризующих эффект мультиколлинеарности. Определить факторы, ответственные за возникновение эффекта мультиколлинеарности."
   ]
  },
  {
   "cell_type": "markdown",
   "metadata": {},
   "source": [
    "Сначала посчитаем определитель Информационной матрицы нормированной на её след"
   ]
  },
  {
   "cell_type": "code",
   "execution_count": 7,
   "metadata": {},
   "outputs": [
    {
     "data": {
      "text/html": [
       "<div>\n",
       "<style scoped>\n",
       "    .dataframe tbody tr th:only-of-type {\n",
       "        vertical-align: middle;\n",
       "    }\n",
       "\n",
       "    .dataframe tbody tr th {\n",
       "        vertical-align: top;\n",
       "    }\n",
       "\n",
       "    .dataframe thead th {\n",
       "        text-align: right;\n",
       "    }\n",
       "</style>\n",
       "<table border=\"1\" class=\"dataframe\">\n",
       "  <thead>\n",
       "    <tr style=\"text-align: right;\">\n",
       "      <th></th>\n",
       "      <th>C</th>\n",
       "      <th>x1</th>\n",
       "      <th>x2</th>\n",
       "      <th>x3</th>\n",
       "      <th>x4</th>\n",
       "      <th>x5</th>\n",
       "      <th>x6</th>\n",
       "      <th>x7</th>\n",
       "      <th>x8</th>\n",
       "    </tr>\n",
       "  </thead>\n",
       "  <tbody>\n",
       "    <tr>\n",
       "      <th>0</th>\n",
       "      <td>1.0</td>\n",
       "      <td>-0.587017</td>\n",
       "      <td>-0.404738</td>\n",
       "      <td>2.825136</td>\n",
       "      <td>0.666209</td>\n",
       "      <td>1.431949</td>\n",
       "      <td>-0.014524</td>\n",
       "      <td>-0.030663</td>\n",
       "      <td>-0.085623</td>\n",
       "    </tr>\n",
       "    <tr>\n",
       "      <th>1</th>\n",
       "      <td>1.0</td>\n",
       "      <td>-2.156394</td>\n",
       "      <td>-1.887345</td>\n",
       "      <td>-2.892198</td>\n",
       "      <td>-1.758673</td>\n",
       "      <td>-1.854320</td>\n",
       "      <td>0.664674</td>\n",
       "      <td>0.625320</td>\n",
       "      <td>-0.256537</td>\n",
       "    </tr>\n",
       "    <tr>\n",
       "      <th>2</th>\n",
       "      <td>1.0</td>\n",
       "      <td>3.267975</td>\n",
       "      <td>3.176515</td>\n",
       "      <td>-2.234389</td>\n",
       "      <td>1.324666</td>\n",
       "      <td>1.118663</td>\n",
       "      <td>-0.341213</td>\n",
       "      <td>0.749000</td>\n",
       "      <td>0.339547</td>\n",
       "    </tr>\n",
       "    <tr>\n",
       "      <th>3</th>\n",
       "      <td>1.0</td>\n",
       "      <td>3.264206</td>\n",
       "      <td>2.806457</td>\n",
       "      <td>-0.052035</td>\n",
       "      <td>0.261475</td>\n",
       "      <td>-0.489141</td>\n",
       "      <td>0.681875</td>\n",
       "      <td>0.991096</td>\n",
       "      <td>0.338636</td>\n",
       "    </tr>\n",
       "    <tr>\n",
       "      <th>4</th>\n",
       "      <td>1.0</td>\n",
       "      <td>-1.206642</td>\n",
       "      <td>-0.629845</td>\n",
       "      <td>-0.767768</td>\n",
       "      <td>1.435810</td>\n",
       "      <td>-0.480605</td>\n",
       "      <td>-1.491637</td>\n",
       "      <td>-0.892766</td>\n",
       "      <td>-0.484676</td>\n",
       "    </tr>\n",
       "    <tr>\n",
       "      <th>...</th>\n",
       "      <td>...</td>\n",
       "      <td>...</td>\n",
       "      <td>...</td>\n",
       "      <td>...</td>\n",
       "      <td>...</td>\n",
       "      <td>...</td>\n",
       "      <td>...</td>\n",
       "      <td>...</td>\n",
       "      <td>...</td>\n",
       "    </tr>\n",
       "    <tr>\n",
       "      <th>295</th>\n",
       "      <td>1.0</td>\n",
       "      <td>-2.861437</td>\n",
       "      <td>-2.930093</td>\n",
       "      <td>2.719643</td>\n",
       "      <td>-0.489678</td>\n",
       "      <td>-0.987496</td>\n",
       "      <td>-0.884416</td>\n",
       "      <td>-0.593036</td>\n",
       "      <td>-0.037115</td>\n",
       "    </tr>\n",
       "    <tr>\n",
       "      <th>296</th>\n",
       "      <td>1.0</td>\n",
       "      <td>-1.059412</td>\n",
       "      <td>-1.452059</td>\n",
       "      <td>0.319249</td>\n",
       "      <td>-2.189048</td>\n",
       "      <td>0.006623</td>\n",
       "      <td>-1.016089</td>\n",
       "      <td>0.829008</td>\n",
       "      <td>0.363110</td>\n",
       "    </tr>\n",
       "    <tr>\n",
       "      <th>297</th>\n",
       "      <td>1.0</td>\n",
       "      <td>-1.807383</td>\n",
       "      <td>-2.021731</td>\n",
       "      <td>1.674402</td>\n",
       "      <td>0.130549</td>\n",
       "      <td>-1.030121</td>\n",
       "      <td>0.626971</td>\n",
       "      <td>0.892761</td>\n",
       "      <td>0.232633</td>\n",
       "    </tr>\n",
       "    <tr>\n",
       "      <th>298</th>\n",
       "      <td>1.0</td>\n",
       "      <td>-0.285390</td>\n",
       "      <td>-0.473973</td>\n",
       "      <td>0.090984</td>\n",
       "      <td>-0.186206</td>\n",
       "      <td>-1.343529</td>\n",
       "      <td>0.558759</td>\n",
       "      <td>-0.881297</td>\n",
       "      <td>-0.030568</td>\n",
       "    </tr>\n",
       "    <tr>\n",
       "      <th>299</th>\n",
       "      <td>1.0</td>\n",
       "      <td>2.323849</td>\n",
       "      <td>2.548841</td>\n",
       "      <td>-1.709005</td>\n",
       "      <td>-1.119837</td>\n",
       "      <td>0.550811</td>\n",
       "      <td>-1.202636</td>\n",
       "      <td>0.096520</td>\n",
       "      <td>-0.214704</td>\n",
       "    </tr>\n",
       "  </tbody>\n",
       "</table>\n",
       "<p>300 rows × 9 columns</p>\n",
       "</div>"
      ],
      "text/plain": [
       "       C        x1        x2        x3        x4        x5        x6  \\\n",
       "0    1.0 -0.587017 -0.404738  2.825136  0.666209  1.431949 -0.014524   \n",
       "1    1.0 -2.156394 -1.887345 -2.892198 -1.758673 -1.854320  0.664674   \n",
       "2    1.0  3.267975  3.176515 -2.234389  1.324666  1.118663 -0.341213   \n",
       "3    1.0  3.264206  2.806457 -0.052035  0.261475 -0.489141  0.681875   \n",
       "4    1.0 -1.206642 -0.629845 -0.767768  1.435810 -0.480605 -1.491637   \n",
       "..   ...       ...       ...       ...       ...       ...       ...   \n",
       "295  1.0 -2.861437 -2.930093  2.719643 -0.489678 -0.987496 -0.884416   \n",
       "296  1.0 -1.059412 -1.452059  0.319249 -2.189048  0.006623 -1.016089   \n",
       "297  1.0 -1.807383 -2.021731  1.674402  0.130549 -1.030121  0.626971   \n",
       "298  1.0 -0.285390 -0.473973  0.090984 -0.186206 -1.343529  0.558759   \n",
       "299  1.0  2.323849  2.548841 -1.709005 -1.119837  0.550811 -1.202636   \n",
       "\n",
       "           x7        x8  \n",
       "0   -0.030663 -0.085623  \n",
       "1    0.625320 -0.256537  \n",
       "2    0.749000  0.339547  \n",
       "3    0.991096  0.338636  \n",
       "4   -0.892766 -0.484676  \n",
       "..        ...       ...  \n",
       "295 -0.593036 -0.037115  \n",
       "296  0.829008  0.363110  \n",
       "297  0.892761  0.232633  \n",
       "298 -0.881297 -0.030568  \n",
       "299  0.096520 -0.214704  \n",
       "\n",
       "[300 rows x 9 columns]"
      ]
     },
     "execution_count": 7,
     "metadata": {},
     "output_type": "execute_result"
    }
   ],
   "source": [
    "x"
   ]
  },
  {
   "cell_type": "code",
   "execution_count": 8,
   "metadata": {},
   "outputs": [
    {
     "name": "stdout",
     "output_type": "stream",
     "text": [
      "5051.052784341986\n"
     ]
    },
    {
     "data": {
      "text/html": [
       "<div>\n",
       "<style scoped>\n",
       "    .dataframe tbody tr th:only-of-type {\n",
       "        vertical-align: middle;\n",
       "    }\n",
       "\n",
       "    .dataframe tbody tr th {\n",
       "        vertical-align: top;\n",
       "    }\n",
       "\n",
       "    .dataframe thead th {\n",
       "        text-align: right;\n",
       "    }\n",
       "</style>\n",
       "<table border=\"1\" class=\"dataframe\">\n",
       "  <thead>\n",
       "    <tr style=\"text-align: right;\">\n",
       "      <th></th>\n",
       "      <th>C</th>\n",
       "      <th>x1</th>\n",
       "      <th>x2</th>\n",
       "      <th>x3</th>\n",
       "      <th>x4</th>\n",
       "      <th>x5</th>\n",
       "      <th>x6</th>\n",
       "      <th>x7</th>\n",
       "      <th>x8</th>\n",
       "    </tr>\n",
       "  </thead>\n",
       "  <tbody>\n",
       "    <tr>\n",
       "      <th>C</th>\n",
       "      <td>300.000000</td>\n",
       "      <td>-19.514392</td>\n",
       "      <td>-20.120308</td>\n",
       "      <td>-47.380700</td>\n",
       "      <td>-9.624247</td>\n",
       "      <td>12.554970</td>\n",
       "      <td>-6.176485</td>\n",
       "      <td>-13.871809</td>\n",
       "      <td>-2.792888</td>\n",
       "    </tr>\n",
       "    <tr>\n",
       "      <th>x1</th>\n",
       "      <td>-19.514392</td>\n",
       "      <td>1220.779718</td>\n",
       "      <td>1175.286950</td>\n",
       "      <td>90.152198</td>\n",
       "      <td>-30.711486</td>\n",
       "      <td>48.471292</td>\n",
       "      <td>-42.686650</td>\n",
       "      <td>20.207343</td>\n",
       "      <td>45.160062</td>\n",
       "    </tr>\n",
       "    <tr>\n",
       "      <th>x2</th>\n",
       "      <td>-20.120308</td>\n",
       "      <td>1175.286950</td>\n",
       "      <td>1156.318180</td>\n",
       "      <td>71.702841</td>\n",
       "      <td>-34.445885</td>\n",
       "      <td>51.627697</td>\n",
       "      <td>-47.164612</td>\n",
       "      <td>14.359607</td>\n",
       "      <td>21.636838</td>\n",
       "    </tr>\n",
       "    <tr>\n",
       "      <th>x3</th>\n",
       "      <td>-47.380700</td>\n",
       "      <td>90.152198</td>\n",
       "      <td>71.702841</td>\n",
       "      <td>993.364405</td>\n",
       "      <td>-34.151350</td>\n",
       "      <td>-15.415458</td>\n",
       "      <td>14.694785</td>\n",
       "      <td>34.991293</td>\n",
       "      <td>12.584835</td>\n",
       "    </tr>\n",
       "    <tr>\n",
       "      <th>x4</th>\n",
       "      <td>-9.624247</td>\n",
       "      <td>-30.711486</td>\n",
       "      <td>-34.445885</td>\n",
       "      <td>-34.151350</td>\n",
       "      <td>619.739932</td>\n",
       "      <td>-35.478360</td>\n",
       "      <td>13.110637</td>\n",
       "      <td>2.226587</td>\n",
       "      <td>6.104095</td>\n",
       "    </tr>\n",
       "    <tr>\n",
       "      <th>x5</th>\n",
       "      <td>12.554970</td>\n",
       "      <td>48.471292</td>\n",
       "      <td>51.627697</td>\n",
       "      <td>-15.415458</td>\n",
       "      <td>-35.478360</td>\n",
       "      <td>418.092003</td>\n",
       "      <td>-27.785228</td>\n",
       "      <td>-4.493943</td>\n",
       "      <td>-4.570671</td>\n",
       "    </tr>\n",
       "    <tr>\n",
       "      <th>x6</th>\n",
       "      <td>-6.176485</td>\n",
       "      <td>-42.686650</td>\n",
       "      <td>-47.164612</td>\n",
       "      <td>14.694785</td>\n",
       "      <td>13.110637</td>\n",
       "      <td>-27.785228</td>\n",
       "      <td>217.159130</td>\n",
       "      <td>-3.731312</td>\n",
       "      <td>2.762661</td>\n",
       "    </tr>\n",
       "    <tr>\n",
       "      <th>x7</th>\n",
       "      <td>-13.871809</td>\n",
       "      <td>20.207343</td>\n",
       "      <td>14.359607</td>\n",
       "      <td>34.991293</td>\n",
       "      <td>2.226587</td>\n",
       "      <td>-4.493943</td>\n",
       "      <td>-3.731312</td>\n",
       "      <td>101.939596</td>\n",
       "      <td>6.921039</td>\n",
       "    </tr>\n",
       "    <tr>\n",
       "      <th>x8</th>\n",
       "      <td>-2.792888</td>\n",
       "      <td>45.160062</td>\n",
       "      <td>21.636838</td>\n",
       "      <td>12.584835</td>\n",
       "      <td>6.104095</td>\n",
       "      <td>-4.570671</td>\n",
       "      <td>2.762661</td>\n",
       "      <td>6.921039</td>\n",
       "      <td>23.659820</td>\n",
       "    </tr>\n",
       "  </tbody>\n",
       "</table>\n",
       "</div>"
      ],
      "text/plain": [
       "             C           x1           x2          x3          x4          x5  \\\n",
       "C   300.000000   -19.514392   -20.120308  -47.380700   -9.624247   12.554970   \n",
       "x1  -19.514392  1220.779718  1175.286950   90.152198  -30.711486   48.471292   \n",
       "x2  -20.120308  1175.286950  1156.318180   71.702841  -34.445885   51.627697   \n",
       "x3  -47.380700    90.152198    71.702841  993.364405  -34.151350  -15.415458   \n",
       "x4   -9.624247   -30.711486   -34.445885  -34.151350  619.739932  -35.478360   \n",
       "x5   12.554970    48.471292    51.627697  -15.415458  -35.478360  418.092003   \n",
       "x6   -6.176485   -42.686650   -47.164612   14.694785   13.110637  -27.785228   \n",
       "x7  -13.871809    20.207343    14.359607   34.991293    2.226587   -4.493943   \n",
       "x8   -2.792888    45.160062    21.636838   12.584835    6.104095   -4.570671   \n",
       "\n",
       "            x6          x7         x8  \n",
       "C    -6.176485  -13.871809  -2.792888  \n",
       "x1  -42.686650   20.207343  45.160062  \n",
       "x2  -47.164612   14.359607  21.636838  \n",
       "x3   14.694785   34.991293  12.584835  \n",
       "x4   13.110637    2.226587   6.104095  \n",
       "x5  -27.785228   -4.493943  -4.570671  \n",
       "x6  217.159130   -3.731312   2.762661  \n",
       "x7   -3.731312  101.939596   6.921039  \n",
       "x8    2.762661    6.921039  23.659820  "
      ]
     },
     "execution_count": 8,
     "metadata": {},
     "output_type": "execute_result"
    }
   ],
   "source": [
    "info_x = x.T @ x\n",
    "tr = np.trace(info_x)\n",
    "print(tr)\n",
    "info_x"
   ]
  },
  {
   "cell_type": "markdown",
   "metadata": {},
   "source": [
    "Если определитель матрицы близок к нулю, то минимальное собственное значение тоже близко к нулю, а это значит, что матрица близка к вырожденной. Что говорит нам о наличии эффекта мультиколлиарности"
   ]
  },
  {
   "cell_type": "code",
   "execution_count": 9,
   "metadata": {},
   "outputs": [
    {
     "data": {
      "text/plain": [
       "5.868126389572479e-14"
      ]
     },
     "execution_count": 9,
     "metadata": {},
     "output_type": "execute_result"
    }
   ],
   "source": [
    "info_norm_x = info_x / tr\n",
    "det = np.linalg.det(info_norm_x)\n",
    "det"
   ]
  },
  {
   "cell_type": "markdown",
   "metadata": {},
   "source": [
    "А теперь посчитаем минимальное собственное значение. Чем оно меньше тем сильнее эффект мультиколлиарности"
   ]
  },
  {
   "cell_type": "code",
   "execution_count": 10,
   "metadata": {},
   "outputs": [
    {
     "name": "stdout",
     "output_type": "stream",
     "text": [
      "[[-0.01206894  0.03761618  0.01262529 -0.01237007 -0.05364528 -0.04223649\n",
      "   0.99140408  0.00757301 -0.10259534]]\n",
      "\n",
      "Минимальное собственное число: 0.0001965080141419652\n",
      "\n",
      "Максимальное собственное число: 0.4714423067796276\n"
     ]
    }
   ],
   "source": [
    "l, v = np.linalg.eig(info_norm_x) # Находим собственные значения и собственные вектора\n",
    "lmin = min(l)\n",
    "index_lmin = np.where(l == lmin)\n",
    "print(v[index_lmin])\n",
    "lmax = max(l)\n",
    "print(\"\\nМинимальное собственное число: \" + str(lmin)) \n",
    "print(\"\\nМаксимальное собственное число: \" + str(lmax)) "
   ]
  },
  {
   "cell_type": "markdown",
   "metadata": {},
   "source": [
    "Вообще тут какие-то приколы пошлиЮ значения не особо сходятся (у тех, которые точно от 0 отличны с теми которые на самом деле входят в мультиколлиарность)"
   ]
  },
  {
   "cell_type": "markdown",
   "metadata": {},
   "source": [
    "Мера обусловленности матрицы по Нейману-Голдстейну. Сравнивая эту меру с масштабом (опираясь на масштабы измерения факторов) можно судить о наличии или об отсутствии мультиколлиарности"
   ]
  },
  {
   "cell_type": "code",
   "execution_count": 11,
   "metadata": {},
   "outputs": [
    {
     "name": "stdout",
     "output_type": "stream",
     "text": [
      "\n",
      "Мера обусловленности по Нейману-Голдстейну: 2399.099644043214\n"
     ]
    }
   ],
   "source": [
    "print(\"\\nМера обусловленности по Нейману-Голдстейну: \" + str(lmax/lmin))"
   ]
  },
  {
   "cell_type": "markdown",
   "metadata": {},
   "source": [
    "Максимальная парная сопряжённость - по идеи она расчитывается на основе similarity cosine (близость по косинусной метрике)"
   ]
  },
  {
   "cell_type": "code",
   "execution_count": 12,
   "metadata": {},
   "outputs": [
    {
     "data": {
      "text/plain": [
       "array([[ 1.        , -0.10936706, -0.10809035, -0.21185607, -0.03416385,\n",
       "         0.06394979, -0.03626842, -0.23362431, -0.17216382],\n",
       "       [-0.10936706,  1.        ,  0.999785  ,  0.16771637, -0.09611315,\n",
       "         0.19359915, -0.30088194,  0.24842074,  0.83843716],\n",
       "       [-0.10809035,  0.999785  ,  1.        ,  0.15783596, -0.09879418,\n",
       "         0.1973901 , -0.30566591,  0.24143031,  0.82724763],\n",
       "       [-0.21185607,  0.16771637,  0.15783596,  1.        , -0.09431993,\n",
       "        -0.03198725,  0.04676465,  0.37327355,  0.3223496 ],\n",
       "       [-0.03416385, -0.09611315, -0.09879418, -0.09431993,  1.        ,\n",
       "        -0.15054234,  0.10126407, -0.00597921,  0.04451103],\n",
       "       [ 0.06394979,  0.19359915,  0.1973901 , -0.03198725, -0.15054234,\n",
       "         1.        , -0.23446102, -0.02799154,  0.02969228],\n",
       "       [-0.03626842, -0.30088194, -0.30566591,  0.04676465,  0.10126407,\n",
       "        -0.23446102,  1.        , -0.07643596, -0.14339678],\n",
       "       [-0.23362431,  0.24842074,  0.24143031,  0.37327355, -0.00597921,\n",
       "        -0.02799154, -0.07643596,  1.        ,  0.40109142],\n",
       "       [-0.17216382,  0.83843716,  0.82724763,  0.3223496 ,  0.04451103,\n",
       "         0.02969228, -0.14339678,  0.40109142,  1.        ]])"
      ]
     },
     "execution_count": 12,
     "metadata": {},
     "output_type": "execute_result"
    }
   ],
   "source": [
    "cosine_sim_x = cosine_similarity(info_x)\n",
    "cosine_sim_x"
   ]
  },
  {
   "cell_type": "code",
   "execution_count": 13,
   "metadata": {},
   "outputs": [
    {
     "name": "stdout",
     "output_type": "stream",
     "text": [
      "\n",
      "Максимальная парная сопряженность: \t0.9997850028037475\n"
     ]
    }
   ],
   "source": [
    "mask = np.ones(cosine_sim_x.shape, dtype=bool) # маска для поиска максимального значения\n",
    "np.fill_diagonal(mask, 0) # заполняю диагональ нулями\n",
    "max_r = cosine_sim_x[mask].max()\n",
    "print(\"\\nМаксимальная парная сопряженность: \" + \"\\t\" + str(max_r))"
   ]
  },
  {
   "cell_type": "markdown",
   "metadata": {},
   "source": [
    "а тут прям бинго! (2,8) - максимум!"
   ]
  },
  {
   "cell_type": "markdown",
   "metadata": {},
   "source": [
    "Теперь посчитаем максимальную сопряжённость"
   ]
  },
  {
   "cell_type": "code",
   "execution_count": 14,
   "metadata": {},
   "outputs": [
    {
     "name": "stdout",
     "output_type": "stream",
     "text": [
      "Максимальная сопряженность: \t0.9999989484891743\n",
      "\n"
     ]
    },
    {
     "data": {
      "text/plain": [
       "array([0.815841  , 0.99999895, 0.99999888, 0.93279478, 0.65066598,\n",
       "       0.52729709, 0.52869516, 0.51788582, 0.99916682])"
      ]
     },
     "execution_count": 14,
     "metadata": {},
     "output_type": "execute_result"
    }
   ],
   "source": [
    "Rii = np.diagonal(np.linalg.inv(cosine_sim_x))\n",
    "R = 1 - Rii ** (-1)\n",
    "max_R = R.max()\n",
    "print(\"Максимальная сопряженность: \" + \"\\t\" + str(max_R) +\"\\n\")\n",
    "R"
   ]
  },
  {
   "cell_type": "markdown",
   "metadata": {},
   "source": [
    "Ну и напоследок: Определитель корреляционной матрицы"
   ]
  },
  {
   "cell_type": "markdown",
   "metadata": {},
   "source": [
    "Когда гамма = 1, то тут точняк мультикорреляция!!!"
   ]
  },
  {
   "cell_type": "code",
   "execution_count": 15,
   "metadata": {},
   "outputs": [
    {
     "name": "stdout",
     "output_type": "stream",
     "text": [
      "1.0\n"
     ]
    }
   ],
   "source": [
    "info_x_cor = np.corrcoef(info_x)\n",
    "det_i_x_c = np.linalg.det(info_x_cor)\n",
    "gamma = 1 - abs(det_i_x_c)\n",
    "print(gamma)"
   ]
  },
  {
   "attachments": {
    "image.png": {
     "image/png": "[encoded data removed]"
    }
   },
   "cell_type": "markdown",
   "metadata": {},
   "source": [
    "Примечание:\n",
    "\n",
    " ![image.png](attachment:image.png)"
   ]
  },
  {
   "attachments": {
    "image.png": {
     "image/png": "[encoded data removed]"
    }
   },
   "cell_type": "markdown",
   "metadata": {},
   "source": [
    "![image.png](attachment:image.png)"
   ]
  },
  {
   "cell_type": "markdown",
   "metadata": {},
   "source": [
    "# Построить ридж-оценки параметров при различных значениях параметра регуляризации. Выбрать оптимальное значение параметра регуляризации. Построить графики изменения квадрата евклидовой нормы оценок параметров и остаточной суммы квадратов от параметра регуляризации"
   ]
  },
  {
   "cell_type": "code",
   "execution_count": 17,
   "metadata": {},
   "outputs": [
    {
     "name": "stdout",
     "output_type": "stream",
     "text": [
      "(1, 1)\n",
      "66.0624156376223\n"
     ]
    }
   ],
   "source": [
    "lyamda = 0 # Параматр регуляризации\n",
    "step = 0.01 # Шаг\n",
    "ar_lyam = [] # Параметры регуляризации\n",
    "RSS = [] # Остаточные суммы квадратов\n",
    "beta = [] # Квадраты евклидовой нормы\n",
    "while lyamda < 0.1:\n",
    "    D = np.diag(np.diagonal(info_x)) # Для вычисления нормы евклидова\n",
    "    sq_D = np.sqrt(D)\n",
    "    Z = x @ np.linalg.inv(sq_D) # Хз, вроде лишнее\n",
    "\n",
    "    L = lyamda * D  # Вроде матрица сдвига или регуляризации\n",
    "    teta_tilda = np.linalg.inv(info_x + L) @ x.T @ y # оценка параметров\n",
    "    y_tilda = np.array(x) @ teta_tilda # Предсказание отклика\n",
    "    RSS_cur = (y-y_tilda).T @ (y-y_tilda) # Остаточная сумма квадратов\n",
    "    RSS.append(RSS_cur[0][0]) \n",
    "    cur_beta = np.linalg.norm(sq_D @ teta_tilda) # Текущая норма Евклида\n",
    "    beta.append(cur_beta)\n",
    "    ar_lyam.append(lyamda)\n",
    "    lyamda += step\n",
    "print(RSS_cur.shape)\n",
    "RSS, min(beta), max(beta), beta[-1]\n",
    "print(cur_beta)"
   ]
  },
  {
   "cell_type": "markdown",
   "metadata": {},
   "source": [
    "Построим соответствующие графики"
   ]
  },
  {
   "cell_type": "markdown",
   "metadata": {},
   "source": [
    "Сначала для RSS(lyamda)"
   ]
  },
  {
   "cell_type": "code",
   "execution_count": 18,
   "metadata": {},
   "outputs": [
    {
     "data": {
      "image/png": "[encoded data removed]",
      "text/plain": [
       "<Figure size 640x480 with 1 Axes>"
      ]
     },
     "metadata": {},
     "output_type": "display_data"
    }
   ],
   "source": [
    "plt.plot(ar_lyam, RSS)\n",
    "plt.xlabel('lyambda')\n",
    "plt.ylabel('RSS')\n",
    "plt.show()"
   ]
  },
  {
   "cell_type": "code",
   "execution_count": 19,
   "metadata": {},
   "outputs": [
    {
     "data": {
      "image/png": "[encoded data removed]",
      "text/plain": [
       "<Figure size 640x480 with 1 Axes>"
      ]
     },
     "metadata": {},
     "output_type": "display_data"
    }
   ],
   "source": [
    "plt.plot(ar_lyam, beta)\n",
    "plt.xlabel('lyambda')\n",
    "plt.ylabel('beta')\n",
    "plt.show()"
   ]
  },
  {
   "cell_type": "markdown",
   "metadata": {},
   "source": [
    "Оптимальный параметр выбирается на глаз Ну тут при каждом запуске разные будут получаться графики, но то что я вижу - примерно 0.02 - норм параметр"
   ]
  },
  {
   "cell_type": "markdown",
   "metadata": {},
   "source": [
    " # Провести оценивание модели регрессии по методу главных компонентов. Перейти к описанию в исходном пространстве факторов. Сравнить решение с ридж-оцениванием по смещению оценок и точности предсказания отклика. функция от модуля взаимодействия первого и второго факторов. "
   ]
  },
  {
   "cell_type": "code",
   "execution_count": 20,
   "metadata": {},
   "outputs": [
    {
     "data": {
      "text/plain": [
       "array([[ 0.        ,  0.        ,  0.        , ...,  0.        ,\n",
       "         0.        ,  0.        ],\n",
       "       [-0.52196899, -2.09134621,  3.33302261, ..., -1.74233499,\n",
       "        -0.22034232,  2.3888966 ],\n",
       "       [-0.33767024, -1.82027775,  3.24358282, ..., -1.95466303,\n",
       "        -0.40690512,  2.61590838],\n",
       "       ...,\n",
       "       [ 0.00606462,  0.68526206, -0.32062481, ...,  0.64755895,\n",
       "         0.57934699, -1.18204727],\n",
       "       [ 0.01557633,  0.67155957,  0.79523976, ...,  0.93900068,\n",
       "        -0.83505733,  0.14275946],\n",
       "       [-0.07631297, -0.24722733,  0.34885658, ...,  0.24194232,\n",
       "        -0.02125795, -0.20539455]])"
      ]
     },
     "execution_count": 20,
     "metadata": {},
     "output_type": "execute_result"
    }
   ],
   "source": [
    "#получим х со звездочкой(центрированные переменные)\n",
    "means = x.mean()\n",
    "X_star = np.array([x['C'] - means['C'],\n",
    "        x['x1'] - means['x1'], \n",
    "        x['x2'] - means['x2'], \n",
    "        x['x3'] - means['x3'], \n",
    "        x['x4'] - means['x4'], \n",
    "        x['x5'] - means['x5'], \n",
    "        x['x6'] - means['x6'], \n",
    "        x['x7'] - means['x7'], \n",
    "        x['x8'] - means['x8']])\n",
    "X_star\n"
   ]
  },
  {
   "cell_type": "code",
   "execution_count": 21,
   "metadata": {},
   "outputs": [
    {
     "data": {
      "text/plain": [
       "array([ 3.27217852e+00, -9.14443492e+00,  8.31152433e+00,  9.61401613e+00,\n",
       "       -4.00989308e+00,  3.12217349e+00, -5.74301744e+00,  9.10747525e+00,\n",
       "        3.36550709e+00, -6.71882200e+00,  6.54825537e+00,  3.32249218e+00,\n",
       "       -1.13583126e+01, -6.63926156e+00, -5.67984275e+00,  6.19288336e+00,\n",
       "        4.85878269e+00,  4.06090610e+00,  5.52992478e+00,  1.15770032e+01,\n",
       "        8.27207913e+00, -1.26588753e+00, -7.57612774e-01, -4.04193726e+00,\n",
       "       -2.91309768e+00,  9.55731109e+00, -3.84731492e+00,  4.92672556e-01,\n",
       "       -9.78204718e+00, -4.76444822e+00,  1.39228399e+00,  6.95267940e+00,\n",
       "        3.12742256e+00, -2.39196548e+00,  4.20773256e-01,  7.25244031e+00,\n",
       "        3.00444210e+00, -7.75417405e+00, -6.42592273e+00, -1.96387221e+00,\n",
       "       -5.53042423e+00,  5.14237889e+00, -5.58413308e+00,  5.07435607e+00,\n",
       "       -9.92900842e+00, -7.40655488e+00, -3.12036186e+00, -3.38317448e+00,\n",
       "       -5.12882355e+00, -6.71842847e+00,  8.87348874e-01,  1.15351142e+01,\n",
       "        3.89411252e+00, -6.66504909e+00, -3.12208993e+00,  2.22329910e+00,\n",
       "       -1.48338142e+00,  4.47661136e+00,  3.73160931e+00,  8.86561677e-01,\n",
       "       -1.87109668e-01,  5.50299169e-01,  2.63553997e+00, -1.07058335e+00,\n",
       "        3.77483302e+00,  2.06046053e+00,  2.48728420e+00, -3.59956794e+00,\n",
       "        7.76175697e+00,  4.63830045e+00, -5.08841247e+00, -4.40312230e+00,\n",
       "       -4.34336052e-01,  5.55003267e+00,  4.26999093e+00,  3.76104868e+00,\n",
       "       -7.73762216e+00, -3.39185604e-01,  1.14679602e+00, -4.46891918e+00,\n",
       "        6.01149707e+00,  5.21581561e+00,  6.75281648e+00, -2.73157065e+00,\n",
       "       -4.09312487e+00, -3.67133772e+00,  6.97927932e-02, -6.93243438e+00,\n",
       "       -4.30500186e+00,  4.87470405e+00,  1.22513743e+01,  4.72109365e+00,\n",
       "       -6.18358233e+00, -3.11780248e+00,  1.40409562e+00,  2.57194845e+00,\n",
       "        1.18617582e+01,  3.78932287e+00,  9.45925213e+00, -2.28659554e-01,\n",
       "       -1.83243577e+00, -7.58225018e+00,  1.63550015e+00, -1.25231056e+00,\n",
       "        4.75503001e+00,  3.29899538e+00, -1.59219414e+00, -1.62310141e+00,\n",
       "        2.25743587e+00,  7.07250144e+00, -5.08984524e+00, -4.18503445e+00,\n",
       "       -1.62078943e+00,  3.30616114e+00, -6.87313607e+00,  1.91989328e-01,\n",
       "       -3.41098725e+00,  5.37521767e+00,  8.02916332e+00, -2.10222273e+00,\n",
       "       -5.06919528e+00, -9.24531358e-01, -1.99110971e+00,  2.85755026e+00,\n",
       "       -2.95669573e+00,  6.16301480e+00, -6.48936794e+00,  7.10469886e+00,\n",
       "        3.54611806e+00, -1.36333781e+00,  1.38635682e+00, -7.64351538e+00,\n",
       "       -9.60144408e-01,  3.33978738e+00, -8.26056619e+00,  1.75209582e+00,\n",
       "        2.44531701e+00,  8.70961968e+00, -6.63510562e+00,  6.89306805e-01,\n",
       "        3.19623977e+00, -3.74788338e+00, -4.36442283e+00, -9.85506443e-01,\n",
       "        5.95971755e+00,  1.92637053e+00,  5.72008716e+00,  6.07712466e-02,\n",
       "        2.99560730e+00,  8.26400552e+00,  2.60339492e+00,  3.62753753e+00,\n",
       "       -4.25361537e+00,  4.03425399e+00,  3.37273119e+00, -6.43780617e+00,\n",
       "       -5.24566669e+00,  5.54647173e+00, -3.55618057e+00,  4.25882541e+00,\n",
       "       -6.48592095e+00,  7.25924566e-01,  4.56429949e+00,  2.78029382e+00,\n",
       "        4.00886611e+00, -7.83194000e+00, -1.14618978e+00,  1.55632410e+00,\n",
       "       -5.08016335e+00, -5.17166570e+00,  2.52296031e-01,  2.13199221e-01,\n",
       "       -6.35723564e+00,  1.36939547e+00, -8.94452948e+00, -8.09410422e+00,\n",
       "        9.46410818e-01,  1.81166012e-01, -5.47267080e+00,  1.64836213e-01,\n",
       "        7.59740534e+00,  6.60758370e+00,  5.78896121e+00,  9.49257836e+00,\n",
       "       -5.12259361e+00, -4.74573600e+00, -4.92957704e+00,  6.89331231e+00,\n",
       "       -9.25490722e-03,  9.45450727e+00,  2.19725342e+00, -7.01390454e+00,\n",
       "        4.83551534e+00, -2.03517503e+00, -6.68106629e+00,  5.11306434e+00,\n",
       "       -2.28089674e+00, -4.33707937e+00,  8.64665532e+00, -4.96874595e+00,\n",
       "       -2.53898629e+00, -1.44042844e+00,  4.97718829e+00, -8.53196084e+00,\n",
       "        4.47426595e+00,  2.98903230e+00,  4.18091526e+00,  6.85610995e+00,\n",
       "        5.59030291e+00,  2.63001806e+00, -2.41744396e+00, -8.33777910e+00,\n",
       "        5.34958492e+00, -6.38086902e+00, -3.72320975e+00, -2.85234445e+00,\n",
       "       -1.01460926e+01,  5.04657452e+00, -1.17766167e+01, -1.15072212e+01,\n",
       "        1.74942294e+00,  5.05048684e-01, -6.65662919e+00,  3.14161172e+00,\n",
       "       -7.44597454e+00,  3.78814771e+00, -4.08062066e+00, -3.33956993e+00,\n",
       "        7.20058269e+00,  5.83699608e+00, -5.31004243e+00,  2.38781894e+00,\n",
       "       -4.84463395e+00, -9.64179154e+00, -3.76733491e+00, -4.16741254e+00,\n",
       "        1.46795873e+00,  2.67472004e+00, -1.25752818e-01, -3.03028049e+00,\n",
       "        4.45556351e+00, -1.24282666e+00, -5.65196618e+00, -4.47989623e+00,\n",
       "       -5.13836793e+00,  1.04679171e+00,  9.64204381e-01,  7.97006838e+00,\n",
       "       -5.54753378e+00, -6.99253304e+00, -2.17764586e+00, -1.78348012e-01,\n",
       "        5.87052712e+00,  7.97570763e-01,  1.18083636e+01, -2.50957483e+00,\n",
       "       -1.95762114e-01,  5.38481114e+00, -1.00444918e+01, -2.07814805e+00,\n",
       "        2.40285482e-01,  3.05309823e+00, -8.77803296e+00, -4.31001311e-01,\n",
       "       -2.08135368e+00, -7.27695172e-01, -2.80564951e+00,  2.57772290e-01,\n",
       "        3.17795909e+00, -5.37622012e+00,  2.94899183e+00, -3.38092876e+00,\n",
       "        4.94853542e+00,  3.70394424e+00,  4.60090689e+00, -1.58029541e-01,\n",
       "       -3.31113992e+00,  3.15528193e+00,  3.75497281e+00,  1.03081096e+00,\n",
       "        1.93257539e-01,  1.65630454e+00, -5.85512558e+00,  2.58658391e+00,\n",
       "        5.30802878e+00,  1.54520246e+00, -1.26625931e-01,  1.37166621e+00,\n",
       "        2.51056643e+00,  1.42516830e+00, -2.47918006e+00,  5.97449818e-01,\n",
       "       -3.88975816e+00, -1.70061538e+00,  2.34671426e+00, -4.94324892e+00,\n",
       "       -4.66545699e+00, -8.94126661e-01,  8.82008214e-01,  2.38948758e+00])"
      ]
     },
     "execution_count": 21,
     "metadata": {},
     "output_type": "execute_result"
    }
   ],
   "source": [
    "#получим у со звездочкой\n",
    "y_star = np.reshape(np.array([y - np.mean(y)]), (n, ))\n",
    "y_star"
   ]
  },
  {
   "cell_type": "markdown",
   "metadata": {},
   "source": [
    "**ВНИМАНИЕ** в следующем коде может присутствовать ошибка, а именно, я ориентировалась в том числе на бригаду Насти Хабаровой, а они в Z умножали на матрицу Х, хотя вроде в лекции написано Х*V, вот, не уверена, что здесь правильно, вероятно я где-то запуталась "
   ]
  },
  {
   "cell_type": "code",
   "execution_count": 22,
   "metadata": {},
   "outputs": [
    {
     "data": {
      "text/plain": [
       "array([7.95186782e+00, 3.28459203e+00, 2.08003379e+00, 1.37558803e+00,\n",
       "       3.31979121e-03, 1.11052675e-01, 3.35778788e-01, 7.08342731e-01,\n",
       "       0.00000000e+00])"
      ]
     },
     "execution_count": 22,
     "metadata": {},
     "output_type": "execute_result"
    }
   ],
   "source": [
    "cov_mat = np.cov(X_star)#наша ковариационная матрица\n",
    "cov_values, cov_vectors = np.linalg.eig(cov_mat)#1 - массив с собств значениями ков матрицы, 2 - матрица, сод собств векторы\n",
    "Z = x.values @ cov_vectors#матрица значений главных компонент(если что, если тут подставлять X_star - то не подойдет, а если X_star транпс, то то же самое) \n",
    "cov_values"
   ]
  },
  {
   "cell_type": "code",
   "execution_count": 23,
   "metadata": {},
   "outputs": [
    {
     "name": "stdout",
     "output_type": "stream",
     "text": [
      "Вектор коэффициентов регресии для исходных факторов: [ 0.          0.11205805  1.82994413  1.00383567  1.08303594  0.84243984\n",
      " -0.10481365 -0.03886421  1.79831571]\n",
      "Норма этого вектора: 9.498046006268712\n"
     ]
    }
   ],
   "source": [
    "#уберем значения некоторые\n",
    "Z_new = np.delete(Z, (6, 7, 8), axis=1)#удаляем значения последние три столбца из Z \n",
    "cov_vectors_new = np.delete(cov_vectors, (6, 7, 8), axis=1)# удаляем три столбца из V \n",
    "b = np.linalg.inv((Z_new.T @ Z_new)) @ (Z_new.T @ y_star)# высчитываем вектор b \n",
    "theta_hat = cov_vectors_new @ b \n",
    "print(f\"Вектор коэффициентов регресии для исходных факторов: {theta_hat}\") \n",
    "norm_theta_hat = theta_hat.T @ theta_hat \n",
    "print(f\"Норма этого вектора: {norm_theta_hat}\") "
   ]
  }
 ],
 "metadata": {
  "kernelspec": {
   "display_name": "base",
   "language": "python",
   "name": "python3"
  },
  "language_info": {
   "codemirror_mode": {
    "name": "ipython",
    "version": 3
   },
   "file_extension": ".py",
   "mimetype": "text/x-python",
   "name": "python",
   "nbconvert_exporter": "python",
   "pygments_lexer": "ipython3",
   "version": "3.11.7"
  }
 },
 "nbformat": 4,
 "nbformat_minor": 2
}
