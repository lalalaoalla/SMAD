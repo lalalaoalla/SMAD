{
 "cells": [
  {
   "cell_type": "markdown",
   "metadata": {},
   "source": [
    "# В соответствии с вариантом задания сгенерировать экспериментальные данные, в которых в явном виде присутствует эффект мультиколлинеарности.\n",
    "# Регрессия на 8 факторах. Эффект мультиколлинеарности создают две пары факторов. Имеется разброс в масштабах факторов.\n",
    "\n",
    "# x1 = x2 + x8\n",
    "\n",
    "# Так же разброс факторов:\n",
    "\n",
    "# x1 [-4; 4]\n",
    "\n",
    "# x2 [-3.5; 3.5]\n",
    "\n",
    "# x3 [-3; 3]\n",
    "\n",
    "# x4 [-2.5; 2.5]\n",
    "\n",
    "# x5 [-2; 2]\n",
    "\n",
    "# x6 [-1.5; 1.5]\n",
    "\n",
    "# x7 [-1; 1]\n",
    "\n",
    "# x8 [-0.5; 0.5]"
   ]
  },
  {
   "cell_type": "code",
   "execution_count": 20,
   "metadata": {},
   "outputs": [],
   "source": [
    "import numpy as np\n",
    "import scipy.stats as sps\n",
    "import pandas as pd\n",
    "from sklearn.metrics.pairwise import cosine_similarity\n",
    "import matplotlib.pyplot as plt"
   ]
  },
  {
   "cell_type": "markdown",
   "metadata": {},
   "source": [
    "Теперь задаём кол-во экспериментов и кол-во фактор + значение параметров в модели"
   ]
  },
  {
   "cell_type": "code",
   "execution_count": 21,
   "metadata": {},
   "outputs": [],
   "source": [
    "n = 300 # Кол-во экспериментов\n",
    "m = 8 # Кол-во факторов\n",
    "teta = np.ones((m+1,1)) # +1 свободный член"
   ]
  },
  {
   "cell_type": "markdown",
   "metadata": {},
   "source": [
    "Сама наша модель"
   ]
  },
  {
   "cell_type": "code",
   "execution_count": 22,
   "metadata": {},
   "outputs": [],
   "source": [
    "def calc_u(x, teta):\n",
    " return x @ teta"
   ]
  },
  {
   "cell_type": "markdown",
   "metadata": {},
   "source": [
    "Генерация массива признаков"
   ]
  },
  {
   "cell_type": "code",
   "execution_count": 23,
   "metadata": {},
   "outputs": [],
   "source": [
    "x2 = np.random.uniform(-3.5, 3.5, n)\n",
    "x3 = np.random.uniform(-3, 3, n)\n",
    "x4 = np.random.uniform(-2.5, 2.5, n)\n",
    "x5 = np.random.uniform(-2, 2, n)\n",
    "x6 = np.random.uniform(-1.5, 1.5, n)\n",
    "x7 = np.random.uniform(-1, 1, n)\n",
    "x8 = np.random.uniform(-0.5, 0.5, n)\n",
    "\n",
    "e_milty = np.random.normal(0, 0.1, n) #Что бы не было точной линеной зависимости добавляю ошибку\n",
    "x1 = x2 + x8  + e_milty# Линейная зависимость от 2ух параметров\n",
    "\n",
    "x0 = np.ones(n) # Свободный член\n",
    "x = pd.DataFrame({'C' : x0,\n",
    "                  'x1': x1,\n",
    "                  'x2': x2,\n",
    "                  'x3': x3,\n",
    "                  'x4': x4,\n",
    "                  'x5': x5,\n",
    "                  'x6': x6,\n",
    "                  'x7': x7,\n",
    "                  'x8': x8})\n",
    "df = x.copy()\n"
   ]
  },
  {
   "cell_type": "markdown",
   "metadata": {},
   "source": [
    "Генерация значения сигнала"
   ]
  },
  {
   "cell_type": "code",
   "execution_count": 24,
   "metadata": {},
   "outputs": [
    {
     "data": {
      "text/plain": [
       "0      1.686367\n",
       "1      2.995218\n",
       "2      3.590496\n",
       "3     -0.519939\n",
       "4      0.312171\n",
       "         ...   \n",
       "295   -1.548549\n",
       "296   -0.905887\n",
       "297    8.122026\n",
       "298   -7.823623\n",
       "299    5.795945\n",
       "Name: u, Length: 300, dtype: float64"
      ]
     },
     "execution_count": 24,
     "metadata": {},
     "output_type": "execute_result"
    }
   ],
   "source": [
    "u = calc_u(x, teta)\n",
    "df['u'] = u\n",
    "df['u']"
   ]
  },
  {
   "cell_type": "markdown",
   "metadata": {},
   "source": [
    "Генерация значения отклика модели"
   ]
  },
  {
   "cell_type": "code",
   "execution_count": 25,
   "metadata": {},
   "outputs": [
    {
     "data": {
      "text/html": [
       "<div>\n",
       "<style scoped>\n",
       "    .dataframe tbody tr th:only-of-type {\n",
       "        vertical-align: middle;\n",
       "    }\n",
       "\n",
       "    .dataframe tbody tr th {\n",
       "        vertical-align: top;\n",
       "    }\n",
       "\n",
       "    .dataframe thead th {\n",
       "        text-align: right;\n",
       "    }\n",
       "</style>\n",
       "<table border=\"1\" class=\"dataframe\">\n",
       "  <thead>\n",
       "    <tr style=\"text-align: right;\">\n",
       "      <th></th>\n",
       "      <th>C</th>\n",
       "      <th>x1</th>\n",
       "      <th>x2</th>\n",
       "      <th>x3</th>\n",
       "      <th>x4</th>\n",
       "      <th>x5</th>\n",
       "      <th>x6</th>\n",
       "      <th>x7</th>\n",
       "      <th>x8</th>\n",
       "      <th>u</th>\n",
       "      <th>y</th>\n",
       "    </tr>\n",
       "  </thead>\n",
       "  <tbody>\n",
       "    <tr>\n",
       "      <th>0</th>\n",
       "      <td>1.0</td>\n",
       "      <td>1.188732</td>\n",
       "      <td>1.179507</td>\n",
       "      <td>1.412399</td>\n",
       "      <td>-1.985216</td>\n",
       "      <td>-0.290944</td>\n",
       "      <td>-0.287095</td>\n",
       "      <td>-0.590512</td>\n",
       "      <td>0.059495</td>\n",
       "      <td>1.686367</td>\n",
       "      <td>3.196753</td>\n",
       "    </tr>\n",
       "    <tr>\n",
       "      <th>1</th>\n",
       "      <td>1.0</td>\n",
       "      <td>0.578905</td>\n",
       "      <td>0.385751</td>\n",
       "      <td>-1.299502</td>\n",
       "      <td>-0.584844</td>\n",
       "      <td>1.754295</td>\n",
       "      <td>1.499049</td>\n",
       "      <td>-0.473546</td>\n",
       "      <td>0.135109</td>\n",
       "      <td>2.995218</td>\n",
       "      <td>2.082348</td>\n",
       "    </tr>\n",
       "    <tr>\n",
       "      <th>2</th>\n",
       "      <td>1.0</td>\n",
       "      <td>-0.189644</td>\n",
       "      <td>-0.232599</td>\n",
       "      <td>1.904164</td>\n",
       "      <td>-0.390692</td>\n",
       "      <td>0.914506</td>\n",
       "      <td>0.869434</td>\n",
       "      <td>-0.304313</td>\n",
       "      <td>0.019641</td>\n",
       "      <td>3.590496</td>\n",
       "      <td>4.050633</td>\n",
       "    </tr>\n",
       "    <tr>\n",
       "      <th>3</th>\n",
       "      <td>1.0</td>\n",
       "      <td>0.964054</td>\n",
       "      <td>1.239726</td>\n",
       "      <td>-2.626494</td>\n",
       "      <td>0.405182</td>\n",
       "      <td>-1.980487</td>\n",
       "      <td>1.015787</td>\n",
       "      <td>-0.288732</td>\n",
       "      <td>-0.248975</td>\n",
       "      <td>-0.519939</td>\n",
       "      <td>0.827277</td>\n",
       "    </tr>\n",
       "    <tr>\n",
       "      <th>4</th>\n",
       "      <td>1.0</td>\n",
       "      <td>1.121626</td>\n",
       "      <td>1.244575</td>\n",
       "      <td>-2.907694</td>\n",
       "      <td>-0.664354</td>\n",
       "      <td>1.813278</td>\n",
       "      <td>-0.667487</td>\n",
       "      <td>-0.398097</td>\n",
       "      <td>-0.229675</td>\n",
       "      <td>0.312171</td>\n",
       "      <td>-1.812620</td>\n",
       "    </tr>\n",
       "    <tr>\n",
       "      <th>...</th>\n",
       "      <td>...</td>\n",
       "      <td>...</td>\n",
       "      <td>...</td>\n",
       "      <td>...</td>\n",
       "      <td>...</td>\n",
       "      <td>...</td>\n",
       "      <td>...</td>\n",
       "      <td>...</td>\n",
       "      <td>...</td>\n",
       "      <td>...</td>\n",
       "      <td>...</td>\n",
       "    </tr>\n",
       "    <tr>\n",
       "      <th>295</th>\n",
       "      <td>1.0</td>\n",
       "      <td>-0.838751</td>\n",
       "      <td>-0.888260</td>\n",
       "      <td>1.980778</td>\n",
       "      <td>-1.095122</td>\n",
       "      <td>-1.756477</td>\n",
       "      <td>-0.225228</td>\n",
       "      <td>0.473178</td>\n",
       "      <td>-0.198666</td>\n",
       "      <td>-1.548549</td>\n",
       "      <td>-1.197593</td>\n",
       "    </tr>\n",
       "    <tr>\n",
       "      <th>296</th>\n",
       "      <td>1.0</td>\n",
       "      <td>-1.693031</td>\n",
       "      <td>-1.957987</td>\n",
       "      <td>2.723756</td>\n",
       "      <td>-0.522608</td>\n",
       "      <td>0.082285</td>\n",
       "      <td>-1.119263</td>\n",
       "      <td>0.299516</td>\n",
       "      <td>0.281446</td>\n",
       "      <td>-0.905887</td>\n",
       "      <td>-1.714637</td>\n",
       "    </tr>\n",
       "    <tr>\n",
       "      <th>297</th>\n",
       "      <td>1.0</td>\n",
       "      <td>2.872509</td>\n",
       "      <td>3.398934</td>\n",
       "      <td>-0.311614</td>\n",
       "      <td>-0.885843</td>\n",
       "      <td>1.007596</td>\n",
       "      <td>0.871086</td>\n",
       "      <td>0.541538</td>\n",
       "      <td>-0.372179</td>\n",
       "      <td>8.122026</td>\n",
       "      <td>9.449571</td>\n",
       "    </tr>\n",
       "    <tr>\n",
       "      <th>298</th>\n",
       "      <td>1.0</td>\n",
       "      <td>-3.217254</td>\n",
       "      <td>-3.391281</td>\n",
       "      <td>-2.605634</td>\n",
       "      <td>0.057911</td>\n",
       "      <td>-0.852108</td>\n",
       "      <td>1.069831</td>\n",
       "      <td>-0.023738</td>\n",
       "      <td>0.138652</td>\n",
       "      <td>-7.823623</td>\n",
       "      <td>-8.194165</td>\n",
       "    </tr>\n",
       "    <tr>\n",
       "      <th>299</th>\n",
       "      <td>1.0</td>\n",
       "      <td>2.517494</td>\n",
       "      <td>2.704234</td>\n",
       "      <td>-2.032249</td>\n",
       "      <td>-1.271741</td>\n",
       "      <td>1.864858</td>\n",
       "      <td>0.268295</td>\n",
       "      <td>0.872749</td>\n",
       "      <td>-0.127694</td>\n",
       "      <td>5.795945</td>\n",
       "      <td>3.805572</td>\n",
       "    </tr>\n",
       "  </tbody>\n",
       "</table>\n",
       "<p>300 rows × 11 columns</p>\n",
       "</div>"
      ],
      "text/plain": [
       "       C        x1        x2        x3        x4        x5        x6  \\\n",
       "0    1.0  1.188732  1.179507  1.412399 -1.985216 -0.290944 -0.287095   \n",
       "1    1.0  0.578905  0.385751 -1.299502 -0.584844  1.754295  1.499049   \n",
       "2    1.0 -0.189644 -0.232599  1.904164 -0.390692  0.914506  0.869434   \n",
       "3    1.0  0.964054  1.239726 -2.626494  0.405182 -1.980487  1.015787   \n",
       "4    1.0  1.121626  1.244575 -2.907694 -0.664354  1.813278 -0.667487   \n",
       "..   ...       ...       ...       ...       ...       ...       ...   \n",
       "295  1.0 -0.838751 -0.888260  1.980778 -1.095122 -1.756477 -0.225228   \n",
       "296  1.0 -1.693031 -1.957987  2.723756 -0.522608  0.082285 -1.119263   \n",
       "297  1.0  2.872509  3.398934 -0.311614 -0.885843  1.007596  0.871086   \n",
       "298  1.0 -3.217254 -3.391281 -2.605634  0.057911 -0.852108  1.069831   \n",
       "299  1.0  2.517494  2.704234 -2.032249 -1.271741  1.864858  0.268295   \n",
       "\n",
       "           x7        x8         u         y  \n",
       "0   -0.590512  0.059495  1.686367  3.196753  \n",
       "1   -0.473546  0.135109  2.995218  2.082348  \n",
       "2   -0.304313  0.019641  3.590496  4.050633  \n",
       "3   -0.288732 -0.248975 -0.519939  0.827277  \n",
       "4   -0.398097 -0.229675  0.312171 -1.812620  \n",
       "..        ...       ...       ...       ...  \n",
       "295  0.473178 -0.198666 -1.548549 -1.197593  \n",
       "296  0.299516  0.281446 -0.905887 -1.714637  \n",
       "297  0.541538 -0.372179  8.122026  9.449571  \n",
       "298 -0.023738  0.138652 -7.823623 -8.194165  \n",
       "299  0.872749 -0.127694  5.795945  3.805572  \n",
       "\n",
       "[300 rows x 11 columns]"
      ]
     },
     "execution_count": 25,
     "metadata": {},
     "output_type": "execute_result"
    }
   ],
   "source": [
    "p = 0.05 # мощность сигнала\n",
    "u_avr = u.sum() / n\n",
    "w_sq = ((u - u_avr).T @ (u - u_avr) / (n-1))[0][0]\n",
    "d = w_sq * p\n",
    "e = np.random.normal(0, d, (1, n)).T\n",
    "y = u + e\n",
    "df['y'] = y\n",
    "df"
   ]
  },
  {
   "cell_type": "markdown",
   "metadata": {},
   "source": [
    "# Рассчитать ряд показателей, характеризующих эффект мультиколлинеарности. Определить факторы, ответственные за возникновение эффекта мультиколлинеарности."
   ]
  },
  {
   "cell_type": "markdown",
   "metadata": {},
   "source": [
    "Сначала посчитаем определитель Информационной матрицы нормированной на её след"
   ]
  },
  {
   "cell_type": "code",
   "execution_count": 26,
   "metadata": {},
   "outputs": [
    {
     "data": {
      "text/html": [
       "<div>\n",
       "<style scoped>\n",
       "    .dataframe tbody tr th:only-of-type {\n",
       "        vertical-align: middle;\n",
       "    }\n",
       "\n",
       "    .dataframe tbody tr th {\n",
       "        vertical-align: top;\n",
       "    }\n",
       "\n",
       "    .dataframe thead th {\n",
       "        text-align: right;\n",
       "    }\n",
       "</style>\n",
       "<table border=\"1\" class=\"dataframe\">\n",
       "  <thead>\n",
       "    <tr style=\"text-align: right;\">\n",
       "      <th></th>\n",
       "      <th>C</th>\n",
       "      <th>x1</th>\n",
       "      <th>x2</th>\n",
       "      <th>x3</th>\n",
       "      <th>x4</th>\n",
       "      <th>x5</th>\n",
       "      <th>x6</th>\n",
       "      <th>x7</th>\n",
       "      <th>x8</th>\n",
       "    </tr>\n",
       "  </thead>\n",
       "  <tbody>\n",
       "    <tr>\n",
       "      <th>0</th>\n",
       "      <td>1.0</td>\n",
       "      <td>1.188732</td>\n",
       "      <td>1.179507</td>\n",
       "      <td>1.412399</td>\n",
       "      <td>-1.985216</td>\n",
       "      <td>-0.290944</td>\n",
       "      <td>-0.287095</td>\n",
       "      <td>-0.590512</td>\n",
       "      <td>0.059495</td>\n",
       "    </tr>\n",
       "    <tr>\n",
       "      <th>1</th>\n",
       "      <td>1.0</td>\n",
       "      <td>0.578905</td>\n",
       "      <td>0.385751</td>\n",
       "      <td>-1.299502</td>\n",
       "      <td>-0.584844</td>\n",
       "      <td>1.754295</td>\n",
       "      <td>1.499049</td>\n",
       "      <td>-0.473546</td>\n",
       "      <td>0.135109</td>\n",
       "    </tr>\n",
       "    <tr>\n",
       "      <th>2</th>\n",
       "      <td>1.0</td>\n",
       "      <td>-0.189644</td>\n",
       "      <td>-0.232599</td>\n",
       "      <td>1.904164</td>\n",
       "      <td>-0.390692</td>\n",
       "      <td>0.914506</td>\n",
       "      <td>0.869434</td>\n",
       "      <td>-0.304313</td>\n",
       "      <td>0.019641</td>\n",
       "    </tr>\n",
       "    <tr>\n",
       "      <th>3</th>\n",
       "      <td>1.0</td>\n",
       "      <td>0.964054</td>\n",
       "      <td>1.239726</td>\n",
       "      <td>-2.626494</td>\n",
       "      <td>0.405182</td>\n",
       "      <td>-1.980487</td>\n",
       "      <td>1.015787</td>\n",
       "      <td>-0.288732</td>\n",
       "      <td>-0.248975</td>\n",
       "    </tr>\n",
       "    <tr>\n",
       "      <th>4</th>\n",
       "      <td>1.0</td>\n",
       "      <td>1.121626</td>\n",
       "      <td>1.244575</td>\n",
       "      <td>-2.907694</td>\n",
       "      <td>-0.664354</td>\n",
       "      <td>1.813278</td>\n",
       "      <td>-0.667487</td>\n",
       "      <td>-0.398097</td>\n",
       "      <td>-0.229675</td>\n",
       "    </tr>\n",
       "    <tr>\n",
       "      <th>...</th>\n",
       "      <td>...</td>\n",
       "      <td>...</td>\n",
       "      <td>...</td>\n",
       "      <td>...</td>\n",
       "      <td>...</td>\n",
       "      <td>...</td>\n",
       "      <td>...</td>\n",
       "      <td>...</td>\n",
       "      <td>...</td>\n",
       "    </tr>\n",
       "    <tr>\n",
       "      <th>295</th>\n",
       "      <td>1.0</td>\n",
       "      <td>-0.838751</td>\n",
       "      <td>-0.888260</td>\n",
       "      <td>1.980778</td>\n",
       "      <td>-1.095122</td>\n",
       "      <td>-1.756477</td>\n",
       "      <td>-0.225228</td>\n",
       "      <td>0.473178</td>\n",
       "      <td>-0.198666</td>\n",
       "    </tr>\n",
       "    <tr>\n",
       "      <th>296</th>\n",
       "      <td>1.0</td>\n",
       "      <td>-1.693031</td>\n",
       "      <td>-1.957987</td>\n",
       "      <td>2.723756</td>\n",
       "      <td>-0.522608</td>\n",
       "      <td>0.082285</td>\n",
       "      <td>-1.119263</td>\n",
       "      <td>0.299516</td>\n",
       "      <td>0.281446</td>\n",
       "    </tr>\n",
       "    <tr>\n",
       "      <th>297</th>\n",
       "      <td>1.0</td>\n",
       "      <td>2.872509</td>\n",
       "      <td>3.398934</td>\n",
       "      <td>-0.311614</td>\n",
       "      <td>-0.885843</td>\n",
       "      <td>1.007596</td>\n",
       "      <td>0.871086</td>\n",
       "      <td>0.541538</td>\n",
       "      <td>-0.372179</td>\n",
       "    </tr>\n",
       "    <tr>\n",
       "      <th>298</th>\n",
       "      <td>1.0</td>\n",
       "      <td>-3.217254</td>\n",
       "      <td>-3.391281</td>\n",
       "      <td>-2.605634</td>\n",
       "      <td>0.057911</td>\n",
       "      <td>-0.852108</td>\n",
       "      <td>1.069831</td>\n",
       "      <td>-0.023738</td>\n",
       "      <td>0.138652</td>\n",
       "    </tr>\n",
       "    <tr>\n",
       "      <th>299</th>\n",
       "      <td>1.0</td>\n",
       "      <td>2.517494</td>\n",
       "      <td>2.704234</td>\n",
       "      <td>-2.032249</td>\n",
       "      <td>-1.271741</td>\n",
       "      <td>1.864858</td>\n",
       "      <td>0.268295</td>\n",
       "      <td>0.872749</td>\n",
       "      <td>-0.127694</td>\n",
       "    </tr>\n",
       "  </tbody>\n",
       "</table>\n",
       "<p>300 rows × 9 columns</p>\n",
       "</div>"
      ],
      "text/plain": [
       "       C        x1        x2        x3        x4        x5        x6  \\\n",
       "0    1.0  1.188732  1.179507  1.412399 -1.985216 -0.290944 -0.287095   \n",
       "1    1.0  0.578905  0.385751 -1.299502 -0.584844  1.754295  1.499049   \n",
       "2    1.0 -0.189644 -0.232599  1.904164 -0.390692  0.914506  0.869434   \n",
       "3    1.0  0.964054  1.239726 -2.626494  0.405182 -1.980487  1.015787   \n",
       "4    1.0  1.121626  1.244575 -2.907694 -0.664354  1.813278 -0.667487   \n",
       "..   ...       ...       ...       ...       ...       ...       ...   \n",
       "295  1.0 -0.838751 -0.888260  1.980778 -1.095122 -1.756477 -0.225228   \n",
       "296  1.0 -1.693031 -1.957987  2.723756 -0.522608  0.082285 -1.119263   \n",
       "297  1.0  2.872509  3.398934 -0.311614 -0.885843  1.007596  0.871086   \n",
       "298  1.0 -3.217254 -3.391281 -2.605634  0.057911 -0.852108  1.069831   \n",
       "299  1.0  2.517494  2.704234 -2.032249 -1.271741  1.864858  0.268295   \n",
       "\n",
       "           x7        x8  \n",
       "0   -0.590512  0.059495  \n",
       "1   -0.473546  0.135109  \n",
       "2   -0.304313  0.019641  \n",
       "3   -0.288732 -0.248975  \n",
       "4   -0.398097 -0.229675  \n",
       "..        ...       ...  \n",
       "295  0.473178 -0.198666  \n",
       "296  0.299516  0.281446  \n",
       "297  0.541538 -0.372179  \n",
       "298 -0.023738  0.138652  \n",
       "299  0.872749 -0.127694  \n",
       "\n",
       "[300 rows x 9 columns]"
      ]
     },
     "execution_count": 26,
     "metadata": {},
     "output_type": "execute_result"
    }
   ],
   "source": [
    "x"
   ]
  },
  {
   "cell_type": "code",
   "execution_count": 27,
   "metadata": {},
   "outputs": [
    {
     "name": "stdout",
     "output_type": "stream",
     "text": [
      "4949.618709357385\n"
     ]
    },
    {
     "data": {
      "text/html": [
       "<div>\n",
       "<style scoped>\n",
       "    .dataframe tbody tr th:only-of-type {\n",
       "        vertical-align: middle;\n",
       "    }\n",
       "\n",
       "    .dataframe tbody tr th {\n",
       "        vertical-align: top;\n",
       "    }\n",
       "\n",
       "    .dataframe thead th {\n",
       "        text-align: right;\n",
       "    }\n",
       "</style>\n",
       "<table border=\"1\" class=\"dataframe\">\n",
       "  <thead>\n",
       "    <tr style=\"text-align: right;\">\n",
       "      <th></th>\n",
       "      <th>C</th>\n",
       "      <th>x1</th>\n",
       "      <th>x2</th>\n",
       "      <th>x3</th>\n",
       "      <th>x4</th>\n",
       "      <th>x5</th>\n",
       "      <th>x6</th>\n",
       "      <th>x7</th>\n",
       "      <th>x8</th>\n",
       "    </tr>\n",
       "  </thead>\n",
       "  <tbody>\n",
       "    <tr>\n",
       "      <th>C</th>\n",
       "      <td>300.000000</td>\n",
       "      <td>5.669402</td>\n",
       "      <td>9.473733</td>\n",
       "      <td>-52.916073</td>\n",
       "      <td>-31.398607</td>\n",
       "      <td>19.059434</td>\n",
       "      <td>12.324174</td>\n",
       "      <td>-18.405008</td>\n",
       "      <td>-4.145555</td>\n",
       "    </tr>\n",
       "    <tr>\n",
       "      <th>x1</th>\n",
       "      <td>5.669402</td>\n",
       "      <td>1184.435304</td>\n",
       "      <td>1178.013967</td>\n",
       "      <td>-28.847929</td>\n",
       "      <td>-55.632515</td>\n",
       "      <td>16.197336</td>\n",
       "      <td>-24.983884</td>\n",
       "      <td>-4.393423</td>\n",
       "      <td>5.342948</td>\n",
       "    </tr>\n",
       "    <tr>\n",
       "      <th>x2</th>\n",
       "      <td>9.473733</td>\n",
       "      <td>1178.013967</td>\n",
       "      <td>1200.353845</td>\n",
       "      <td>-36.757188</td>\n",
       "      <td>-54.975965</td>\n",
       "      <td>15.367361</td>\n",
       "      <td>-28.235014</td>\n",
       "      <td>-2.655550</td>\n",
       "      <td>-20.065933</td>\n",
       "    </tr>\n",
       "    <tr>\n",
       "      <th>x3</th>\n",
       "      <td>-52.916073</td>\n",
       "      <td>-28.847929</td>\n",
       "      <td>-36.757188</td>\n",
       "      <td>857.651661</td>\n",
       "      <td>11.900354</td>\n",
       "      <td>5.568877</td>\n",
       "      <td>-18.559524</td>\n",
       "      <td>6.978871</td>\n",
       "      <td>8.811649</td>\n",
       "    </tr>\n",
       "    <tr>\n",
       "      <th>x4</th>\n",
       "      <td>-31.398607</td>\n",
       "      <td>-55.632515</td>\n",
       "      <td>-54.975965</td>\n",
       "      <td>11.900354</td>\n",
       "      <td>614.725503</td>\n",
       "      <td>38.150818</td>\n",
       "      <td>4.532094</td>\n",
       "      <td>-17.864556</td>\n",
       "      <td>0.627739</td>\n",
       "    </tr>\n",
       "    <tr>\n",
       "      <th>x5</th>\n",
       "      <td>19.059434</td>\n",
       "      <td>16.197336</td>\n",
       "      <td>15.367361</td>\n",
       "      <td>5.568877</td>\n",
       "      <td>38.150818</td>\n",
       "      <td>438.047398</td>\n",
       "      <td>13.365028</td>\n",
       "      <td>-11.014253</td>\n",
       "      <td>2.039395</td>\n",
       "    </tr>\n",
       "    <tr>\n",
       "      <th>x6</th>\n",
       "      <td>12.324174</td>\n",
       "      <td>-24.983884</td>\n",
       "      <td>-28.235014</td>\n",
       "      <td>-18.559524</td>\n",
       "      <td>4.532094</td>\n",
       "      <td>13.365028</td>\n",
       "      <td>210.618593</td>\n",
       "      <td>0.839436</td>\n",
       "      <td>2.393893</td>\n",
       "    </tr>\n",
       "    <tr>\n",
       "      <th>x7</th>\n",
       "      <td>-18.405008</td>\n",
       "      <td>-4.393423</td>\n",
       "      <td>-2.655550</td>\n",
       "      <td>6.978871</td>\n",
       "      <td>-17.864556</td>\n",
       "      <td>-11.014253</td>\n",
       "      <td>0.839436</td>\n",
       "      <td>118.452832</td>\n",
       "      <td>-1.520035</td>\n",
       "    </tr>\n",
       "    <tr>\n",
       "      <th>x8</th>\n",
       "      <td>-4.145555</td>\n",
       "      <td>5.342948</td>\n",
       "      <td>-20.065933</td>\n",
       "      <td>8.811649</td>\n",
       "      <td>0.627739</td>\n",
       "      <td>2.039395</td>\n",
       "      <td>2.393893</td>\n",
       "      <td>-1.520035</td>\n",
       "      <td>25.333574</td>\n",
       "    </tr>\n",
       "  </tbody>\n",
       "</table>\n",
       "</div>"
      ],
      "text/plain": [
       "             C           x1           x2          x3          x4          x5  \\\n",
       "C   300.000000     5.669402     9.473733  -52.916073  -31.398607   19.059434   \n",
       "x1    5.669402  1184.435304  1178.013967  -28.847929  -55.632515   16.197336   \n",
       "x2    9.473733  1178.013967  1200.353845  -36.757188  -54.975965   15.367361   \n",
       "x3  -52.916073   -28.847929   -36.757188  857.651661   11.900354    5.568877   \n",
       "x4  -31.398607   -55.632515   -54.975965   11.900354  614.725503   38.150818   \n",
       "x5   19.059434    16.197336    15.367361    5.568877   38.150818  438.047398   \n",
       "x6   12.324174   -24.983884   -28.235014  -18.559524    4.532094   13.365028   \n",
       "x7  -18.405008    -4.393423    -2.655550    6.978871  -17.864556  -11.014253   \n",
       "x8   -4.145555     5.342948   -20.065933    8.811649    0.627739    2.039395   \n",
       "\n",
       "            x6          x7         x8  \n",
       "C    12.324174  -18.405008  -4.145555  \n",
       "x1  -24.983884   -4.393423   5.342948  \n",
       "x2  -28.235014   -2.655550 -20.065933  \n",
       "x3  -18.559524    6.978871   8.811649  \n",
       "x4    4.532094  -17.864556   0.627739  \n",
       "x5   13.365028  -11.014253   2.039395  \n",
       "x6  210.618593    0.839436   2.393893  \n",
       "x7    0.839436  118.452832  -1.520035  \n",
       "x8    2.393893   -1.520035  25.333574  "
      ]
     },
     "execution_count": 27,
     "metadata": {},
     "output_type": "execute_result"
    }
   ],
   "source": [
    "info_x = x.T @ x\n",
    "tr = np.trace(info_x)\n",
    "print(tr)\n",
    "info_x"
   ]
  },
  {
   "cell_type": "markdown",
   "metadata": {},
   "source": [
    "Если определитель матрицы близок к нулю, то минимальное собственное значение тоже близко к нулю, а это значит, что матрица близка к вырожденной. Что говорит нам о наличии эффекта мультиколлиарности"
   ]
  },
  {
   "cell_type": "code",
   "execution_count": 28,
   "metadata": {},
   "outputs": [
    {
     "data": {
      "text/plain": [
       "8.889470253522492e-14"
      ]
     },
     "execution_count": 28,
     "metadata": {},
     "output_type": "execute_result"
    }
   ],
   "source": [
    "info_norm_x = info_x / tr\n",
    "det = np.linalg.det(info_norm_x)\n",
    "det"
   ]
  },
  {
   "cell_type": "markdown",
   "metadata": {},
   "source": [
    "А теперь посчитаем минимальное собственное значение. Чем оно меньше тем сильнее эффект мультиколлиарности"
   ]
  },
  {
   "cell_type": "code",
   "execution_count": 29,
   "metadata": {},
   "outputs": [
    {
     "name": "stdout",
     "output_type": "stream",
     "text": [
      "[[-4.59347457e-03 -1.06198824e-02 -7.38367819e-04  4.05422159e-03\n",
      "   1.22146402e-02  1.59100692e-02  2.59304751e-02  8.02756854e-01\n",
      "  -5.95277962e-01]]\n",
      "\n",
      "Минимальное собственное число: 0.00021624841936438582\n",
      "\n",
      "Максимальное собственное число: 0.480109864105526\n"
     ]
    }
   ],
   "source": [
    "l, v = np.linalg.eig(info_norm_x) # Находим собственные значения и собственные вектора\n",
    "lmin = min(l)\n",
    "index_lmin = np.where(l == lmin)\n",
    "print(v[index_lmin])\n",
    "lmax = max(l)\n",
    "print(\"\\nМинимальное собственное число: \" + str(lmin)) \n",
    "print(\"\\nМаксимальное собственное число: \" + str(lmax)) "
   ]
  },
  {
   "cell_type": "markdown",
   "metadata": {},
   "source": [
    "Вообще тут какие-то приколы пошлиЮ значения не особо сходятся (у тех, которые точно от 0 отличны с теми которые на самом деле входят в мультиколлиарность)"
   ]
  },
  {
   "cell_type": "markdown",
   "metadata": {},
   "source": [
    "Мера обусловленности матрицы по Нейману-Голдстейну. Сравнивая эту меру с масштабом (опираясь на масштабы измерения факторов) можно судить о наличии или об отсутствии мультиколлиарности"
   ]
  },
  {
   "cell_type": "code",
   "execution_count": 30,
   "metadata": {},
   "outputs": [
    {
     "name": "stdout",
     "output_type": "stream",
     "text": [
      "\n",
      "Мера обусловленности по Нейману-Голдстейну: 2220.177449235015\n"
     ]
    }
   ],
   "source": [
    "print(\"\\nМера обусловленности по Нейману-Голдстейну: \" + str(lmax/lmin))"
   ]
  },
  {
   "cell_type": "markdown",
   "metadata": {},
   "source": [
    "Максимальная парная сопряжённость - по идеи она расчитывается на основе similarity cosine (близость по косинусной метрике)"
   ]
  },
  {
   "cell_type": "code",
   "execution_count": 31,
   "metadata": {},
   "outputs": [
    {
     "data": {
      "text/plain": [
       "array([[ 1.        ,  0.04450596,  0.04754035, -0.235549  , -0.15184193,\n",
       "         0.09699453,  0.10475258, -0.20640009, -0.17945516],\n",
       "       [ 0.04450596,  1.        ,  0.99979702, -0.07127897, -0.15844693,\n",
       "         0.05686258, -0.18735212, -0.04103575, -0.30476515],\n",
       "       [ 0.04754035,  0.99979702,  1.        , -0.07614709, -0.15809316,\n",
       "         0.05622092, -0.18889414, -0.04034943, -0.32381372],\n",
       "       [-0.235549  , -0.07127897, -0.07614709,  1.        ,  0.04260883,\n",
       "         0.0140154 , -0.10001752,  0.07337078,  0.28896159],\n",
       "       [-0.15184193, -0.15844693, -0.15809316,  0.04260883,  1.        ,\n",
       "         0.13903261,  0.04899869, -0.16421618,  0.07292631],\n",
       "       [ 0.09699453,  0.05686258,  0.05622092,  0.0140154 ,  0.13903261,\n",
       "         1.        ,  0.08550456, -0.1342821 ,  0.05054505],\n",
       "       [ 0.10475258, -0.18735212, -0.18889414, -0.10001752,  0.04899869,\n",
       "         0.08550456,  1.        , -0.00483447,  0.10963564],\n",
       "       [-0.20640009, -0.04103575, -0.04034943,  0.07337078, -0.16421618,\n",
       "        -0.1342821 , -0.00483447,  1.        , -0.01970843],\n",
       "       [-0.17945516, -0.30476515, -0.32381372,  0.28896159,  0.07292631,\n",
       "         0.05054505,  0.10963564, -0.01970843,  1.        ]])"
      ]
     },
     "execution_count": 31,
     "metadata": {},
     "output_type": "execute_result"
    }
   ],
   "source": [
    "cosine_sim_x = cosine_similarity(info_x)\n",
    "cosine_sim_x"
   ]
  },
  {
   "cell_type": "code",
   "execution_count": 32,
   "metadata": {},
   "outputs": [
    {
     "name": "stdout",
     "output_type": "stream",
     "text": [
      "\n",
      "Максимальная парная сопряженность: \t0.9997970196850802\n"
     ]
    }
   ],
   "source": [
    "mask = np.ones(cosine_sim_x.shape, dtype=bool) # маска для поиска максимального значения\n",
    "np.fill_diagonal(mask, 0) # заполняю диагональ нулями\n",
    "max_r = cosine_sim_x[mask].max()\n",
    "print(\"\\nМаксимальная парная сопряженность: \" + \"\\t\" + str(max_r))"
   ]
  },
  {
   "cell_type": "markdown",
   "metadata": {},
   "source": [
    "а тут прям бинго! (2,8) - максимум!"
   ]
  },
  {
   "cell_type": "markdown",
   "metadata": {},
   "source": [
    "Теперь посчитаем максимальную сопряжённость"
   ]
  },
  {
   "cell_type": "code",
   "execution_count": 33,
   "metadata": {},
   "outputs": [
    {
     "name": "stdout",
     "output_type": "stream",
     "text": [
      "Максимальная сопряженность: \t0.9999987481946087\n",
      "\n"
     ]
    },
    {
     "data": {
      "text/plain": [
       "array([0.18828903, 0.99999873, 0.99999875, 0.34181489, 0.3506402 ,\n",
       "       0.35720555, 0.19926852, 0.1078485 , 0.99726498])"
      ]
     },
     "execution_count": 33,
     "metadata": {},
     "output_type": "execute_result"
    }
   ],
   "source": [
    "Rii = np.diagonal(np.linalg.inv(cosine_sim_x))\n",
    "R = 1 - Rii ** (-1)\n",
    "max_R = R.max()\n",
    "print(\"Максимальная сопряженность: \" + \"\\t\" + str(max_R) +\"\\n\")\n",
    "R"
   ]
  },
  {
   "cell_type": "markdown",
   "metadata": {},
   "source": [
    "Ну и напоследок: Определитель корреляционной матрицы"
   ]
  },
  {
   "cell_type": "markdown",
   "metadata": {},
   "source": [
    "Когда гамма = 1, то тут точняк мультикорреляция!!!"
   ]
  },
  {
   "cell_type": "code",
   "execution_count": 34,
   "metadata": {},
   "outputs": [
    {
     "name": "stdout",
     "output_type": "stream",
     "text": [
      "1.0\n"
     ]
    }
   ],
   "source": [
    "info_x_cor = np.corrcoef(info_x)\n",
    "det_i_x_c = np.linalg.det(info_x_cor)\n",
    "gamma = 1 - abs(det_i_x_c)\n",
    "print(gamma)"
   ]
  },
  {
   "attachments": {
    "image.png": {
     "image/png": "[encoded data removed]"
    }
   },
   "cell_type": "markdown",
   "metadata": {},
   "source": [
    "Примечание:\n",
    "\n",
    " ![image.png](attachment:image.png)"
   ]
  },
  {
   "attachments": {
    "image.png": {
     "image/png": "[encoded data removed]"
    }
   },
   "cell_type": "markdown",
   "metadata": {},
   "source": [
    "![image.png](attachment:image.png)"
   ]
  },
  {
   "cell_type": "markdown",
   "metadata": {},
   "source": [
    "# Построить ридж-оценки параметров при различных значениях параметра регуляризации. Выбрать оптимальное значение параметра регуляризации. Построить графики изменения квадрата евклидовой нормы оценок параметров и остаточной суммы квадратов от параметра регуляризации"
   ]
  },
  {
   "cell_type": "code",
   "execution_count": 35,
   "metadata": {},
   "outputs": [
    {
     "name": "stdout",
     "output_type": "stream",
     "text": [
      "(1, 1)\n"
     ]
    },
    {
     "data": {
      "text/plain": [
       "([296.2939581967578,\n",
       "  296.9280667555753,\n",
       "  298.1522024074856,\n",
       "  300.10180824929705,\n",
       "  302.7498938372737,\n",
       "  306.0617029544552,\n",
       "  310.00265718192605,\n",
       "  314.5395798996669,\n",
       "  319.6409337916254,\n",
       "  325.27682859400886,\n",
       "  331.41896243532597],\n",
       " 65.30691598129391,\n",
       " 72.17294687168248,\n",
       " 65.30691598129391)"
      ]
     },
     "execution_count": 35,
     "metadata": {},
     "output_type": "execute_result"
    }
   ],
   "source": [
    "lyamda = 0 # Параматр регуляризации\n",
    "step = 0.01 # Шаг\n",
    "ar_lyam = [] # Параметры регуляризации\n",
    "RSS = [] # Остаточные суммы квадратов\n",
    "beta = [] # Квадраты евклидовой нормы\n",
    "while lyamda < 0.1:\n",
    "    D = np.diag(np.diagonal(info_x)) # Для вычисления нормы евклидова\n",
    "    sq_D = np.sqrt(D)\n",
    "    Z = x @ np.linalg.inv(sq_D) # Хз, вроде лишнее\n",
    "\n",
    "    L = lyamda * D  # Вроде матрица сдвига или регуляризации\n",
    "    teta_tilda = np.linalg.inv(info_x + L) @ x.T @ y # оценка параметров\n",
    "    y_tilda = np.array(x) @ teta_tilda # Предсказание отклика\n",
    "    RSS_cur = (y-y_tilda).T @ (y-y_tilda) # Остаточная сумма квадратов\n",
    "    RSS.append(RSS_cur[0][0]) \n",
    "    cur_beta = np.linalg.norm(sq_D @ teta_tilda) # Текущая норма Евклида\n",
    "    beta.append(cur_beta)\n",
    "    ar_lyam.append(lyamda)\n",
    "    lyamda += step\n",
    "print(RSS_cur.shape)\n",
    "RSS, min(beta), max(beta), beta[-1]"
   ]
  },
  {
   "cell_type": "markdown",
   "metadata": {},
   "source": [
    "Построим соответствующие графики"
   ]
  },
  {
   "cell_type": "markdown",
   "metadata": {},
   "source": [
    "Сначала для RSS(lyamda)"
   ]
  },
  {
   "cell_type": "code",
   "execution_count": 36,
   "metadata": {},
   "outputs": [
    {
     "data": {
      "image/png": "[encoded data removed]",
      "text/plain": [
       "<Figure size 640x480 with 1 Axes>"
      ]
     },
     "metadata": {},
     "output_type": "display_data"
    }
   ],
   "source": [
    "plt.plot(ar_lyam, RSS)\n",
    "plt.xlabel('lyambda')\n",
    "plt.ylabel('RSS')\n",
    "plt.show()"
   ]
  },
  {
   "cell_type": "code",
   "execution_count": 37,
   "metadata": {},
   "outputs": [
    {
     "data": {
      "image/png": "[encoded data removed]",
      "text/plain": [
       "<Figure size 640x480 with 1 Axes>"
      ]
     },
     "metadata": {},
     "output_type": "display_data"
    }
   ],
   "source": [
    "plt.plot(ar_lyam, beta)\n",
    "plt.xlabel('lyambda')\n",
    "plt.ylabel('beta')\n",
    "plt.show()"
   ]
  },
  {
   "cell_type": "markdown",
   "metadata": {},
   "source": [
    "Оптимальный параметр выбирается на глаз Ну тут при каждом запуске разные будут получаться графики, но то что я вижу - примерно 0.02 - норм параметр"
   ]
  },
  {
   "cell_type": "markdown",
   "metadata": {},
   "source": [
    " # Провести оценивание модели регрессии по методу главных компонентов. Перейти к описанию в исходном пространстве факторов. Сравнить решение с ридж-оцениванием по смещению оценок и точности предсказания отклика. функция от модуля взаимодействия первого и второго факторов. "
   ]
  },
  {
   "cell_type": "code",
   "execution_count": 49,
   "metadata": {},
   "outputs": [
    {
     "data": {
      "text/plain": [
       "array([[ 0.        ,  0.        ,  0.        , ...,  0.        ,\n",
       "         0.        ,  0.        ],\n",
       "       [ 1.16983413,  0.56000726, -0.20854212, ...,  2.85361109,\n",
       "        -3.23615204,  2.49859598],\n",
       "       [ 1.1479282 ,  0.35417155, -0.26417852, ...,  3.36735485,\n",
       "        -3.42286032,  2.67265482],\n",
       "       ...,\n",
       "       [-0.32817566,  1.45796879,  0.8283539 , ...,  0.83000546,\n",
       "         1.02874994,  0.22721487],\n",
       "       [-0.52916157, -0.4121957 , -0.24296347, ...,  0.60288774,\n",
       "         0.0376121 ,  0.93409884],\n",
       "       [ 0.07331335,  0.14892747,  0.03345916, ..., -0.35836063,\n",
       "         0.15247032, -0.11387557]])"
      ]
     },
     "execution_count": 49,
     "metadata": {},
     "output_type": "execute_result"
    }
   ],
   "source": [
    "#получим х со звездочкой(центрированные переменные)\n",
    "means = x.mean()\n",
    "X_star = np.array([x['C'] - means['C'],\n",
    "        x['x1'] - means['x1'], \n",
    "        x['x2'] - means['x2'], \n",
    "        x['x3'] - means['x3'], \n",
    "        x['x4'] - means['x4'], \n",
    "        x['x5'] - means['x5'], \n",
    "        x['x6'] - means['x6'], \n",
    "        x['x7'] - means['x7'], \n",
    "        x['x8'] - means['x8']])\n",
    "X_star\n"
   ]
  },
  {
   "cell_type": "code",
   "execution_count": 50,
   "metadata": {},
   "outputs": [
    {
     "data": {
      "text/plain": [
       "array([  2.39252589,   1.27812163,   3.24640592,   0.02305049,\n",
       "        -2.61684689,  -1.05077695,   4.75313039,  -8.8942154 ,\n",
       "        -0.38348366,  -4.89598089,  -1.15743828,  -2.56757375,\n",
       "         6.98684259,  -8.37353202,   2.00586848,  -1.8608209 ,\n",
       "        -3.18367056,   1.09485121,  10.2733344 ,   3.68140253,\n",
       "        -2.4918158 ,  -4.73765172,   2.05382019,  -3.896506  ,\n",
       "        -1.0463371 ,  11.57718574,  -1.87245107,  -3.68437848,\n",
       "        -2.36026045,   2.46956391,  -6.33987939,  -0.8145054 ,\n",
       "         5.31738588,  -2.59491589,  -0.60525354,  -3.10360923,\n",
       "        -1.94259891,  -1.87437099,   2.25217782,   9.92053699,\n",
       "         8.82225091,   3.61232432,  -0.04063339,   4.96244952,\n",
       "         0.86254113,  10.15094471,  -2.2029167 ,   3.77043443,\n",
       "         1.73703172,  -1.4070265 , -13.06999847,  -4.50518901,\n",
       "         0.73309735,   0.08377582,   1.0369072 ,  -0.41037713,\n",
       "        -2.02274817,   5.76753446,  -8.90418459,   2.18810752,\n",
       "        -0.96689726,   5.06728059,  -4.48305441,   1.43127325,\n",
       "         0.93665961,  -4.89003636,   2.49864444,  14.28160539,\n",
       "        -6.96599901,  -2.51927757,  -2.11909588,  -2.6418231 ,\n",
       "         2.73359563,   0.88995405,  -4.53748926,   3.04412365,\n",
       "        -1.10320544,   3.93556637,  -7.35275731,  -3.00441206,\n",
       "        -3.11788784,   5.54691804,  -9.26722063,   0.0375638 ,\n",
       "        -0.02309289,   0.33340289,   5.32679994,  -2.92506592,\n",
       "        -7.63302496,   6.34586607,  -4.41395457,  -8.02286816,\n",
       "         3.74523356,  -3.68250121,   1.70429674,   2.59398847,\n",
       "         1.36032893,  -3.28675786,  -1.16980373,  -0.24532453,\n",
       "         1.6408486 ,   1.19078933,   0.69259696,  -3.9702823 ,\n",
       "         8.30050859,   6.79698562,   4.13977763,   0.68399709,\n",
       "         7.08624479,   6.69346344,   5.90742844,   2.30799679,\n",
       "         2.94418733,  -4.75677208,   7.52896741,  -0.93097299,\n",
       "        -2.76708962,  -7.37986314,  10.57202945,   3.16537905,\n",
       "         2.8690599 ,   6.67955882,  -3.06727765,  -2.11589912,\n",
       "         2.39799116,  -2.19904371,  -3.97672686,   0.81556362,\n",
       "        -8.36642479,   1.09811444,  -4.69253848,   5.46024425,\n",
       "        -1.5771759 ,  -0.71297833,  -5.02477109,  -6.15571306,\n",
       "        -5.0324248 ,  -3.0384801 ,   5.24786993,  -2.31545449,\n",
       "         1.89336915,   1.24104093,   2.426596  ,   2.58973633,\n",
       "         1.67194693,   2.91691565,  -3.22699329,   2.37061317,\n",
       "         1.32108021,   2.13546941,  -0.79065382,   0.9363905 ,\n",
       "         6.19035552,  -6.72988261,   3.61546512,   4.16964978,\n",
       "        -4.46758031,   4.497864  ,  -7.91840008,   2.88909104,\n",
       "         2.74907289,   5.16714174,  -6.02118665,   0.9541607 ,\n",
       "        -3.46391555,   0.92939869,   5.18722411,  -2.91285293,\n",
       "        -3.18892518,   1.97399393,  -0.10272775,   4.20748016,\n",
       "        -1.94931989,   6.24715894,   4.20973133,  -2.77019199,\n",
       "        -7.08328068,  -3.87017045,   3.30037861,  -0.66075563,\n",
       "        -4.4930986 , -12.44666175,   8.83059188,   0.30792803,\n",
       "        -4.78025366,  -4.36184209,   0.17839374,  -3.90638465,\n",
       "        -3.44830526,  -5.99700752,   1.43879563,  -1.03169705,\n",
       "        -7.82355974,   6.34203523,  -6.21404862,   0.25046255,\n",
       "        -0.36373483,  -0.41839596,  -2.61444612,   6.76353171,\n",
       "        -3.53238239,  -5.01997295,   5.90713844,  -2.98051222,\n",
       "        -1.00411472,  -5.37157577,  -5.82102188,   8.14763513,\n",
       "         4.35090681,  -3.73514233,  -0.49918592,   4.9458583 ,\n",
       "        -4.76038872,   9.57423653,  -7.66715299,   2.21995532,\n",
       "         7.48371811,   1.4158853 ,   2.69908789,   4.95786254,\n",
       "         2.87104922,  -1.69629019, -10.80306849,  -0.99088789,\n",
       "        -0.43116046,  -0.87499973,  -0.65462279,   5.22801888,\n",
       "        -8.90427339,   2.78230595,  -5.52254571,  11.39663576,\n",
       "        -0.5183328 ,   6.08860726,  -8.47895726,  -1.00239095,\n",
       "        -4.58978902,  -0.02533327,  -0.39321856,  -6.89040861,\n",
       "        -9.80721477,  -3.0057785 ,   1.77156993,   0.40021311,\n",
       "         0.65442253,  -3.84824499,   5.85549509,   6.49514855,\n",
       "        -5.91620597,  -1.6297775 ,   5.68999254,   1.80017741,\n",
       "         1.3388849 , -12.38210052,   2.79541886,  -5.57515528,\n",
       "        -5.94828717,  -5.35195948,   3.96644577,  -6.78027744,\n",
       "        -1.07876736,   0.04908247,   2.94527203,  -1.75537789,\n",
       "        10.76759357,   2.93655578,   3.95155279,  10.46333226,\n",
       "        -3.65320811,   2.56446495,  -1.13063338,   2.8454832 ,\n",
       "        -0.03097585,  -0.14173536,   3.8226474 ,  -1.53507559,\n",
       "        -7.34123305,   6.5752207 ,   6.50283628,   3.17191663,\n",
       "        -0.84047575,   0.6597338 ,  -7.47152411,   2.4671278 ,\n",
       "        -2.02162341,   0.57301895,  -1.84878095,  10.42332634,\n",
       "        -2.18444419,   4.15896748,  -7.54650613,  -3.14013789,\n",
       "         8.05186497,   2.04538871,   1.62384676,  -2.00181941,\n",
       "        -2.5188641 ,   8.64534465,  -8.99839186,   3.00134498])"
      ]
     },
     "execution_count": 50,
     "metadata": {},
     "output_type": "execute_result"
    }
   ],
   "source": [
    "#получим у со звездочкой\n",
    "y_star = np.reshape(np.array([y - np.mean(y)]), (n, ))\n",
    "y_star"
   ]
  },
  {
   "cell_type": "markdown",
   "metadata": {},
   "source": [
    "**ВНИМАНИЕ** в следующем коде может присутствовать ошибка, а именно, я ориентировалась в том числе на бригаду Насти Хабаровой, а они в Z умножали на матрицу Х, хотя вроде в лекции написано Х*V, вот, не уверена, что здесь правильно, вероятно я где-то запуталась "
   ]
  },
  {
   "cell_type": "code",
   "execution_count": null,
   "metadata": {},
   "outputs": [
    {
     "data": {
      "text/plain": [
       "array([7.94529939e+00, 2.83585238e+00, 3.57975859e-03, 1.27849841e-01,\n",
       "       3.88961045e-01, 6.96741250e-01, 1.43115479e+00, 2.06784870e+00,\n",
       "       0.00000000e+00])"
      ]
     },
     "execution_count": 56,
     "metadata": {},
     "output_type": "execute_result"
    }
   ],
   "source": [
    "cov_mat = np.cov(X_star)#наша ковариационная матрица\n",
    "cov_values, cov_vectors = np.linalg.eig(cov_mat)#1 - массив с собств значениями ков матрицы, 2 - матрица, сод собств векторы\n",
    "Z = x.values @ cov_vectors#матрица значений главных компонент(если что, если тут подставлять X_star - то не подойдет, а если X_star транпс, то то же самое) \n",
    "cov_values"
   ]
  },
  {
   "cell_type": "code",
   "execution_count": 59,
   "metadata": {},
   "outputs": [
    {
     "name": "stdout",
     "output_type": "stream",
     "text": [
      "Вектор коэффициентов регресии для исходных факторов: [ 0.          0.70470664  1.24802153  1.07473485 -0.00875618 -0.00629563\n",
      "  1.01285284  0.83596596  1.32140919]\n",
      "Норма этого вектора: 6.680172689847785\n"
     ]
    }
   ],
   "source": [
    "#уберем значения некоторые\n",
    "Z_new = np.delete(Z, (6, 7, 8), axis=1)#удаляем значения последние три столбца из Z \n",
    "cov_vectors_new = np.delete(cov_vectors, (6, 7, 8), axis=1)# удаляем три столбца из V \n",
    "b = np.linalg.inv((Z_new.T @ Z_new)) @ (Z_new.T @ y_star)# высчитываем вектор b \n",
    "theta_hat = cov_vectors_new @ b \n",
    "print(f\"Вектор коэффициентов регресии для исходных факторов: {theta_hat}\") \n",
    "norm_theta_hat = theta_hat.T @ theta_hat \n",
    "print(f\"Норма этого вектора: {norm_theta_hat}\") "
   ]
  }
 ],
 "metadata": {
  "kernelspec": {
   "display_name": "base",
   "language": "python",
   "name": "python3"
  },
  "language_info": {
   "codemirror_mode": {
    "name": "ipython",
    "version": 3
   },
   "file_extension": ".py",
   "mimetype": "text/x-python",
   "name": "python",
   "nbconvert_exporter": "python",
   "pygments_lexer": "ipython3",
   "version": "3.11.7"
  }
 },
 "nbformat": 4,
 "nbformat_minor": 2
}
